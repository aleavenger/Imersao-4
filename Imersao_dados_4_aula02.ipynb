{
  "cells": [
    {
      "cell_type": "markdown",
      "metadata": {
        "colab_type": "text",
        "id": "view-in-github"
      },
      "source": [
        "<a href=\"https://colab.research.google.com/github/aleavenger/Imersao-4/blob/master/Imersao_dados_4_aula02.ipynb\" target=\"_parent\"><img src=\"https://colab.research.google.com/assets/colab-badge.svg\" alt=\"Open In Colab\"/></a>"
      ]
    },
    {
      "cell_type": "code",
      "execution_count": 1,
      "metadata": {
        "id": "hz9yn4dWQKf9"
      },
      "outputs": [],
      "source": [
        "import pandas as pd\n",
        "url = \"https://gist.githubusercontent.com/tgcsantos/3bdb29eba6ce391e90df2b72205ba891/raw/22fa920e80c9fa209a9fccc8b52d74cc95d1599b/dados_imoveis.csv\"\n",
        "dados = pd.read_csv(url)"
      ]
    },
    {
      "cell_type": "code",
      "execution_count": 2,
      "metadata": {
        "colab": {
          "base_uri": "https://localhost:8080/",
          "height": 206
        },
        "id": "7e2Kmt74QnFZ",
        "outputId": "ff83dc37-66e4-412c-e284-4a3f3d6c0032"
      },
      "outputs": [
        {
          "data": {
            "text/html": [
              "<div>\n",
              "<style scoped>\n",
              "    .dataframe tbody tr th:only-of-type {\n",
              "        vertical-align: middle;\n",
              "    }\n",
              "\n",
              "    .dataframe tbody tr th {\n",
              "        vertical-align: top;\n",
              "    }\n",
              "\n",
              "    .dataframe thead th {\n",
              "        text-align: right;\n",
              "    }\n",
              "</style>\n",
              "<table border=\"1\" class=\"dataframe\">\n",
              "  <thead>\n",
              "    <tr style=\"text-align: right;\">\n",
              "      <th></th>\n",
              "      <th>Rua</th>\n",
              "      <th>Bairro</th>\n",
              "      <th>Cidade</th>\n",
              "      <th>Metragem</th>\n",
              "      <th>Quartos</th>\n",
              "      <th>Banheiros</th>\n",
              "      <th>Vagas</th>\n",
              "      <th>Valor</th>\n",
              "    </tr>\n",
              "  </thead>\n",
              "  <tbody>\n",
              "    <tr>\n",
              "      <th>0</th>\n",
              "      <td>Avenida Itacira, 255</td>\n",
              "      <td>Planalto Paulista</td>\n",
              "      <td>São Paulo</td>\n",
              "      <td>1000</td>\n",
              "      <td>4</td>\n",
              "      <td>8</td>\n",
              "      <td>6</td>\n",
              "      <td>R$ 7.000.000</td>\n",
              "    </tr>\n",
              "    <tr>\n",
              "      <th>1</th>\n",
              "      <td>Rua Aurelia Perez Alvarez, 42</td>\n",
              "      <td>Jardim dos Estados</td>\n",
              "      <td>São Paulo</td>\n",
              "      <td>496</td>\n",
              "      <td>4</td>\n",
              "      <td>4</td>\n",
              "      <td>4</td>\n",
              "      <td>R$ 3.700.000</td>\n",
              "    </tr>\n",
              "    <tr>\n",
              "      <th>2</th>\n",
              "      <td>Rua Alba Valdez</td>\n",
              "      <td>Jardim Reimberg</td>\n",
              "      <td>São Paulo</td>\n",
              "      <td>125</td>\n",
              "      <td>4</td>\n",
              "      <td>3</td>\n",
              "      <td>2</td>\n",
              "      <td>R$ 380.000</td>\n",
              "    </tr>\n",
              "    <tr>\n",
              "      <th>3</th>\n",
              "      <td>NaN</td>\n",
              "      <td>Jardim Morumbi</td>\n",
              "      <td>São Paulo</td>\n",
              "      <td>310</td>\n",
              "      <td>3</td>\n",
              "      <td>2</td>\n",
              "      <td>4</td>\n",
              "      <td>R$ 685.000</td>\n",
              "    </tr>\n",
              "    <tr>\n",
              "      <th>4</th>\n",
              "      <td>Rua Tobias Barreto, 195</td>\n",
              "      <td>Mooca</td>\n",
              "      <td>São Paulo</td>\n",
              "      <td>100</td>\n",
              "      <td>3</td>\n",
              "      <td>2</td>\n",
              "      <td>2</td>\n",
              "      <td>R$ 540.000</td>\n",
              "    </tr>\n",
              "  </tbody>\n",
              "</table>\n",
              "</div>"
            ],
            "text/plain": [
              "                              Rua              Bairro     Cidade  Metragem  \\\n",
              "0           Avenida Itacira, 255    Planalto Paulista  São Paulo      1000   \n",
              "1  Rua Aurelia Perez Alvarez, 42   Jardim dos Estados  São Paulo       496   \n",
              "2                 Rua Alba Valdez     Jardim Reimberg  São Paulo       125   \n",
              "3                             NaN      Jardim Morumbi  São Paulo       310   \n",
              "4        Rua Tobias Barreto, 195                Mooca  São Paulo       100   \n",
              "\n",
              "   Quartos  Banheiros  Vagas         Valor  \n",
              "0        4          8      6  R$ 7.000.000  \n",
              "1        4          4      4  R$ 3.700.000  \n",
              "2        4          3      2    R$ 380.000  \n",
              "3        3          2      4    R$ 685.000  \n",
              "4        3          2      2    R$ 540.000  "
            ]
          },
          "execution_count": 2,
          "metadata": {},
          "output_type": "execute_result"
        }
      ],
      "source": [
        "dados.head()"
      ]
    },
    {
      "cell_type": "code",
      "execution_count": 3,
      "metadata": {
        "colab": {
          "base_uri": "https://localhost:8080/",
          "height": 363
        },
        "id": "_RTJqQIiShML",
        "outputId": "b6ea8482-a494-4dc9-8d37-fa1bc122b100"
      },
      "outputs": [
        {
          "data": {
            "text/html": [
              "<div>\n",
              "<style scoped>\n",
              "    .dataframe tbody tr th:only-of-type {\n",
              "        vertical-align: middle;\n",
              "    }\n",
              "\n",
              "    .dataframe tbody tr th {\n",
              "        vertical-align: top;\n",
              "    }\n",
              "\n",
              "    .dataframe thead th {\n",
              "        text-align: right;\n",
              "    }\n",
              "</style>\n",
              "<table border=\"1\" class=\"dataframe\">\n",
              "  <thead>\n",
              "    <tr style=\"text-align: right;\">\n",
              "      <th></th>\n",
              "      <th>Rua</th>\n",
              "      <th>Bairro</th>\n",
              "      <th>Cidade</th>\n",
              "      <th>Metragem</th>\n",
              "      <th>Quartos</th>\n",
              "      <th>Banheiros</th>\n",
              "      <th>Vagas</th>\n",
              "      <th>Valor</th>\n",
              "    </tr>\n",
              "  </thead>\n",
              "  <tbody>\n",
              "    <tr>\n",
              "      <th>4827</th>\n",
              "      <td>NaN</td>\n",
              "      <td>Jardim Guedala</td>\n",
              "      <td>São Paulo</td>\n",
              "      <td>664</td>\n",
              "      <td>5</td>\n",
              "      <td>2</td>\n",
              "      <td>6</td>\n",
              "      <td>R$ 2.800.000</td>\n",
              "    </tr>\n",
              "    <tr>\n",
              "      <th>4400</th>\n",
              "      <td>NaN</td>\n",
              "      <td>Jardim Europa</td>\n",
              "      <td>São Paulo</td>\n",
              "      <td>705</td>\n",
              "      <td>3</td>\n",
              "      <td>6</td>\n",
              "      <td>4</td>\n",
              "      <td>R$ 12.500.000</td>\n",
              "    </tr>\n",
              "    <tr>\n",
              "      <th>760</th>\n",
              "      <td>Praça Coronel Bonfim de Andrade</td>\n",
              "      <td>Jardim Guedala</td>\n",
              "      <td>São Paulo</td>\n",
              "      <td>780</td>\n",
              "      <td>5</td>\n",
              "      <td>6</td>\n",
              "      <td>4</td>\n",
              "      <td>R$ 5.000.000</td>\n",
              "    </tr>\n",
              "    <tr>\n",
              "      <th>490</th>\n",
              "      <td>Rua General Lecor</td>\n",
              "      <td>Ipiranga</td>\n",
              "      <td>São Paulo</td>\n",
              "      <td>106</td>\n",
              "      <td>2</td>\n",
              "      <td>1</td>\n",
              "      <td>1</td>\n",
              "      <td>R$ 5.000\\n                      /Mês</td>\n",
              "    </tr>\n",
              "    <tr>\n",
              "      <th>8269</th>\n",
              "      <td>Alameda Canuri</td>\n",
              "      <td>Planalto Paulista</td>\n",
              "      <td>São Paulo</td>\n",
              "      <td>300</td>\n",
              "      <td>3</td>\n",
              "      <td>2</td>\n",
              "      <td>12</td>\n",
              "      <td>R$ 15.000\\n                      /Mês</td>\n",
              "    </tr>\n",
              "    <tr>\n",
              "      <th>5402</th>\n",
              "      <td>Rua João de Santa Maria</td>\n",
              "      <td>Vila Brasilina</td>\n",
              "      <td>São Paulo</td>\n",
              "      <td>184</td>\n",
              "      <td>4</td>\n",
              "      <td>6</td>\n",
              "      <td>3</td>\n",
              "      <td>R$ 1.280.000</td>\n",
              "    </tr>\n",
              "    <tr>\n",
              "      <th>9272</th>\n",
              "      <td>Rua Ipero</td>\n",
              "      <td>Jardim das Bandeiras</td>\n",
              "      <td>São Paulo</td>\n",
              "      <td>230</td>\n",
              "      <td>3</td>\n",
              "      <td>4</td>\n",
              "      <td>3</td>\n",
              "      <td>R$ 3.000.000</td>\n",
              "    </tr>\n",
              "    <tr>\n",
              "      <th>1686</th>\n",
              "      <td>Rua Umburanas</td>\n",
              "      <td>Alto de Pinheiros</td>\n",
              "      <td>São Paulo</td>\n",
              "      <td>305</td>\n",
              "      <td>4</td>\n",
              "      <td>3</td>\n",
              "      <td>4</td>\n",
              "      <td>R$ 2.800.000</td>\n",
              "    </tr>\n",
              "    <tr>\n",
              "      <th>7310</th>\n",
              "      <td>Rua Florindo Braglia</td>\n",
              "      <td>Jardim São Paulo(Zona Norte)</td>\n",
              "      <td>São Paulo</td>\n",
              "      <td>235</td>\n",
              "      <td>4</td>\n",
              "      <td>4</td>\n",
              "      <td>3</td>\n",
              "      <td>R$ 1.200.000</td>\n",
              "    </tr>\n",
              "    <tr>\n",
              "      <th>7458</th>\n",
              "      <td>Rua Madalena de Morais</td>\n",
              "      <td>Jardim Leonor</td>\n",
              "      <td>São Paulo</td>\n",
              "      <td>726</td>\n",
              "      <td>4</td>\n",
              "      <td>8</td>\n",
              "      <td>9</td>\n",
              "      <td>R$ 4.500.000</td>\n",
              "    </tr>\n",
              "  </tbody>\n",
              "</table>\n",
              "</div>"
            ],
            "text/plain": [
              "                                  Rua                        Bairro  \\\n",
              "4827                              NaN                Jardim Guedala   \n",
              "4400                              NaN                 Jardim Europa   \n",
              "760   Praça Coronel Bonfim de Andrade                Jardim Guedala   \n",
              "490                 Rua General Lecor                      Ipiranga   \n",
              "8269                   Alameda Canuri             Planalto Paulista   \n",
              "5402          Rua João de Santa Maria                Vila Brasilina   \n",
              "9272                        Rua Ipero          Jardim das Bandeiras   \n",
              "1686                    Rua Umburanas             Alto de Pinheiros   \n",
              "7310             Rua Florindo Braglia  Jardim São Paulo(Zona Norte)   \n",
              "7458           Rua Madalena de Morais                 Jardim Leonor   \n",
              "\n",
              "         Cidade  Metragem  Quartos  Banheiros  Vagas  \\\n",
              "4827  São Paulo       664        5          2      6   \n",
              "4400  São Paulo       705        3          6      4   \n",
              "760   São Paulo       780        5          6      4   \n",
              "490   São Paulo       106        2          1      1   \n",
              "8269  São Paulo       300        3          2     12   \n",
              "5402  São Paulo       184        4          6      3   \n",
              "9272  São Paulo       230        3          4      3   \n",
              "1686  São Paulo       305        4          3      4   \n",
              "7310  São Paulo       235        4          4      3   \n",
              "7458  São Paulo       726        4          8      9   \n",
              "\n",
              "                                      Valor  \n",
              "4827                           R$ 2.800.000  \n",
              "4400                          R$ 12.500.000  \n",
              "760                            R$ 5.000.000  \n",
              "490    R$ 5.000\\n                      /Mês  \n",
              "8269  R$ 15.000\\n                      /Mês  \n",
              "5402                           R$ 1.280.000  \n",
              "9272                           R$ 3.000.000  \n",
              "1686                           R$ 2.800.000  \n",
              "7310                           R$ 1.200.000  \n",
              "7458                           R$ 4.500.000  "
            ]
          },
          "execution_count": 3,
          "metadata": {},
          "output_type": "execute_result"
        }
      ],
      "source": [
        "dados.sample(10)"
      ]
    },
    {
      "cell_type": "code",
      "execution_count": 4,
      "metadata": {
        "colab": {
          "base_uri": "https://localhost:8080/"
        },
        "id": "PSqqMKMqUcFZ",
        "outputId": "7db0d29b-0b13-44da-e70e-9f4dc7ab8d77"
      },
      "outputs": [
        {
          "name": "stdout",
          "output_type": "stream",
          "text": [
            "<class 'pandas.core.frame.DataFrame'>\n",
            "RangeIndex: 10008 entries, 0 to 10007\n",
            "Data columns (total 8 columns):\n",
            " #   Column     Non-Null Count  Dtype \n",
            "---  ------     --------------  ----- \n",
            " 0   Rua        6574 non-null   object\n",
            " 1   Bairro     9996 non-null   object\n",
            " 2   Cidade     10008 non-null  object\n",
            " 3   Metragem   10008 non-null  int64 \n",
            " 4   Quartos    10008 non-null  int64 \n",
            " 5   Banheiros  10008 non-null  int64 \n",
            " 6   Vagas      10008 non-null  int64 \n",
            " 7   Valor      10008 non-null  object\n",
            "dtypes: int64(4), object(4)\n",
            "memory usage: 625.6+ KB\n"
          ]
        }
      ],
      "source": [
        "dados.info()"
      ]
    },
    {
      "cell_type": "code",
      "execution_count": 5,
      "metadata": {
        "colab": {
          "base_uri": "https://localhost:8080/",
          "height": 36
        },
        "id": "P9rkcINCSiai",
        "outputId": "ab695d56-ebce-46fa-bdde-03a2e68e0324"
      },
      "outputs": [
        {
          "data": {
            "text/plain": [
              "'Vila Paulo Silas'"
            ]
          },
          "execution_count": 5,
          "metadata": {},
          "output_type": "execute_result"
        }
      ],
      "source": [
        "dados[\"Bairro\"][6522]"
      ]
    },
    {
      "cell_type": "code",
      "execution_count": 6,
      "metadata": {
        "colab": {
          "base_uri": "https://localhost:8080/"
        },
        "id": "FYtNWwbkTopx",
        "outputId": "bdcee399-b7c2-4879-b755-060c5569f619"
      },
      "outputs": [
        {
          "data": {
            "text/plain": [
              "442.30065947242207"
            ]
          },
          "execution_count": 6,
          "metadata": {},
          "output_type": "execute_result"
        }
      ],
      "source": [
        "dados.Metragem.mean()"
      ]
    },
    {
      "cell_type": "code",
      "execution_count": 7,
      "metadata": {
        "colab": {
          "base_uri": "https://localhost:8080/"
        },
        "id": "CZtnuG1wVDqg",
        "outputId": "73740d0d-afb6-4b62-acb6-11149a2648b4"
      },
      "outputs": [
        {
          "data": {
            "text/plain": [
              "442.30065947242207"
            ]
          },
          "execution_count": 7,
          "metadata": {},
          "output_type": "execute_result"
        }
      ],
      "source": [
        "dados[\"Metragem\"].mean()"
      ]
    },
    {
      "cell_type": "code",
      "execution_count": 8,
      "metadata": {
        "colab": {
          "base_uri": "https://localhost:8080/"
        },
        "id": "W-LPCx0qVzvS",
        "outputId": "b73f5706-5a1b-4b8d-bc5e-d49b2eeca4e4"
      },
      "outputs": [
        {
          "data": {
            "text/plain": [
              "184"
            ]
          },
          "execution_count": 8,
          "metadata": {},
          "output_type": "execute_result"
        }
      ],
      "source": [
        "sum((dados[\"Bairro\"] == \"Vila Mariana\"))"
      ]
    },
    {
      "cell_type": "code",
      "execution_count": 9,
      "metadata": {
        "colab": {
          "base_uri": "https://localhost:8080/"
        },
        "id": "VPAYgHC3WQmy",
        "outputId": "92b9cc74-468d-4a99-b9c8-fabf505786b8"
      },
      "outputs": [
        {
          "data": {
            "text/plain": [
              "0        False\n",
              "1        False\n",
              "2        False\n",
              "3        False\n",
              "4        False\n",
              "         ...  \n",
              "10003    False\n",
              "10004    False\n",
              "10005    False\n",
              "10006    False\n",
              "10007    False\n",
              "Name: Bairro, Length: 10008, dtype: bool"
            ]
          },
          "execution_count": 9,
          "metadata": {},
          "output_type": "execute_result"
        }
      ],
      "source": [
        "tem_imoveis_vila =( dados[\"Bairro\"] == \"Vila Mariana\")\n",
        "tem_imoveis_vila"
      ]
    },
    {
      "cell_type": "code",
      "execution_count": 10,
      "metadata": {
        "colab": {
          "base_uri": "https://localhost:8080/",
          "height": 424
        },
        "id": "2DnvKduJW39N",
        "outputId": "ac904d69-4365-4411-d975-4392019f33b3"
      },
      "outputs": [
        {
          "data": {
            "text/html": [
              "<div>\n",
              "<style scoped>\n",
              "    .dataframe tbody tr th:only-of-type {\n",
              "        vertical-align: middle;\n",
              "    }\n",
              "\n",
              "    .dataframe tbody tr th {\n",
              "        vertical-align: top;\n",
              "    }\n",
              "\n",
              "    .dataframe thead th {\n",
              "        text-align: right;\n",
              "    }\n",
              "</style>\n",
              "<table border=\"1\" class=\"dataframe\">\n",
              "  <thead>\n",
              "    <tr style=\"text-align: right;\">\n",
              "      <th></th>\n",
              "      <th>Rua</th>\n",
              "      <th>Bairro</th>\n",
              "      <th>Cidade</th>\n",
              "      <th>Metragem</th>\n",
              "      <th>Quartos</th>\n",
              "      <th>Banheiros</th>\n",
              "      <th>Vagas</th>\n",
              "      <th>Valor</th>\n",
              "    </tr>\n",
              "  </thead>\n",
              "  <tbody>\n",
              "    <tr>\n",
              "      <th>100</th>\n",
              "      <td>Rua Pero Correia</td>\n",
              "      <td>Vila Mariana</td>\n",
              "      <td>São Paulo</td>\n",
              "      <td>250</td>\n",
              "      <td>3</td>\n",
              "      <td>3</td>\n",
              "      <td>1</td>\n",
              "      <td>R$ 1.350.000</td>\n",
              "    </tr>\n",
              "    <tr>\n",
              "      <th>120</th>\n",
              "      <td>Praça Doutor Carvalho Franco</td>\n",
              "      <td>Vila Mariana</td>\n",
              "      <td>São Paulo</td>\n",
              "      <td>250</td>\n",
              "      <td>3</td>\n",
              "      <td>5</td>\n",
              "      <td>2</td>\n",
              "      <td>R$ 2.450.000</td>\n",
              "    </tr>\n",
              "    <tr>\n",
              "      <th>155</th>\n",
              "      <td>Rua Professor João Marinho</td>\n",
              "      <td>Vila Mariana</td>\n",
              "      <td>São Paulo</td>\n",
              "      <td>170</td>\n",
              "      <td>3</td>\n",
              "      <td>4</td>\n",
              "      <td>2</td>\n",
              "      <td>R$ 1.490.000</td>\n",
              "    </tr>\n",
              "    <tr>\n",
              "      <th>160</th>\n",
              "      <td>NaN</td>\n",
              "      <td>Vila Mariana</td>\n",
              "      <td>São Paulo</td>\n",
              "      <td>228</td>\n",
              "      <td>4</td>\n",
              "      <td>5</td>\n",
              "      <td>3</td>\n",
              "      <td>R$ 2.200.000</td>\n",
              "    </tr>\n",
              "    <tr>\n",
              "      <th>334</th>\n",
              "      <td>Rua Pero Correia, 892</td>\n",
              "      <td>Vila Mariana</td>\n",
              "      <td>São Paulo</td>\n",
              "      <td>350</td>\n",
              "      <td>6</td>\n",
              "      <td>4</td>\n",
              "      <td>10</td>\n",
              "      <td>R$ 1.700.000</td>\n",
              "    </tr>\n",
              "    <tr>\n",
              "      <th>...</th>\n",
              "      <td>...</td>\n",
              "      <td>...</td>\n",
              "      <td>...</td>\n",
              "      <td>...</td>\n",
              "      <td>...</td>\n",
              "      <td>...</td>\n",
              "      <td>...</td>\n",
              "      <td>...</td>\n",
              "    </tr>\n",
              "    <tr>\n",
              "      <th>9645</th>\n",
              "      <td>Rua Sousa Ramos</td>\n",
              "      <td>Vila Mariana</td>\n",
              "      <td>São Paulo</td>\n",
              "      <td>285</td>\n",
              "      <td>3</td>\n",
              "      <td>5</td>\n",
              "      <td>5</td>\n",
              "      <td>R$ 1.650.000</td>\n",
              "    </tr>\n",
              "    <tr>\n",
              "      <th>9701</th>\n",
              "      <td>Rua Benito Juarez</td>\n",
              "      <td>Vila Mariana</td>\n",
              "      <td>São Paulo</td>\n",
              "      <td>171</td>\n",
              "      <td>3</td>\n",
              "      <td>2</td>\n",
              "      <td>4</td>\n",
              "      <td>R$ 1.650.000</td>\n",
              "    </tr>\n",
              "    <tr>\n",
              "      <th>9737</th>\n",
              "      <td>Rua Benito Juarez</td>\n",
              "      <td>Vila Mariana</td>\n",
              "      <td>São Paulo</td>\n",
              "      <td>171</td>\n",
              "      <td>3</td>\n",
              "      <td>2</td>\n",
              "      <td>4</td>\n",
              "      <td>R$ 1.650.000</td>\n",
              "    </tr>\n",
              "    <tr>\n",
              "      <th>9807</th>\n",
              "      <td>NaN</td>\n",
              "      <td>Vila Mariana</td>\n",
              "      <td>São Paulo</td>\n",
              "      <td>275</td>\n",
              "      <td>3</td>\n",
              "      <td>1</td>\n",
              "      <td>6</td>\n",
              "      <td>R$ 1.500.000</td>\n",
              "    </tr>\n",
              "    <tr>\n",
              "      <th>9852</th>\n",
              "      <td>Rua França Pinto</td>\n",
              "      <td>Vila Mariana</td>\n",
              "      <td>São Paulo</td>\n",
              "      <td>280</td>\n",
              "      <td>3</td>\n",
              "      <td>3</td>\n",
              "      <td>4</td>\n",
              "      <td>R$ 1.600.000</td>\n",
              "    </tr>\n",
              "  </tbody>\n",
              "</table>\n",
              "<p>184 rows × 8 columns</p>\n",
              "</div>"
            ],
            "text/plain": [
              "                               Rua        Bairro     Cidade  Metragem  \\\n",
              "100               Rua Pero Correia  Vila Mariana  São Paulo       250   \n",
              "120   Praça Doutor Carvalho Franco  Vila Mariana  São Paulo       250   \n",
              "155     Rua Professor João Marinho  Vila Mariana  São Paulo       170   \n",
              "160                            NaN  Vila Mariana  São Paulo       228   \n",
              "334         Rua Pero Correia, 892   Vila Mariana  São Paulo       350   \n",
              "...                            ...           ...        ...       ...   \n",
              "9645               Rua Sousa Ramos  Vila Mariana  São Paulo       285   \n",
              "9701             Rua Benito Juarez  Vila Mariana  São Paulo       171   \n",
              "9737             Rua Benito Juarez  Vila Mariana  São Paulo       171   \n",
              "9807                           NaN  Vila Mariana  São Paulo       275   \n",
              "9852              Rua França Pinto  Vila Mariana  São Paulo       280   \n",
              "\n",
              "      Quartos  Banheiros  Vagas         Valor  \n",
              "100         3          3      1  R$ 1.350.000  \n",
              "120         3          5      2  R$ 2.450.000  \n",
              "155         3          4      2  R$ 1.490.000  \n",
              "160         4          5      3  R$ 2.200.000  \n",
              "334         6          4     10  R$ 1.700.000  \n",
              "...       ...        ...    ...           ...  \n",
              "9645        3          5      5  R$ 1.650.000  \n",
              "9701        3          2      4  R$ 1.650.000  \n",
              "9737        3          2      4  R$ 1.650.000  \n",
              "9807        3          1      6  R$ 1.500.000  \n",
              "9852        3          3      4  R$ 1.600.000  \n",
              "\n",
              "[184 rows x 8 columns]"
            ]
          },
          "execution_count": 10,
          "metadata": {},
          "output_type": "execute_result"
        }
      ],
      "source": [
        "imoveis_vila_mariana = dados[tem_imoveis_vila]\n",
        "imoveis_vila_mariana"
      ]
    },
    {
      "cell_type": "code",
      "execution_count": 11,
      "metadata": {
        "colab": {
          "base_uri": "https://localhost:8080/"
        },
        "id": "KAZjmOobXJk8",
        "outputId": "dd97d242-c976-4e3c-a75b-939d1be89e01"
      },
      "outputs": [
        {
          "data": {
            "text/plain": [
              "233.6195652173913"
            ]
          },
          "execution_count": 11,
          "metadata": {},
          "output_type": "execute_result"
        }
      ],
      "source": [
        "imoveis_vila_mariana[\"Metragem\"].mean()"
      ]
    },
    {
      "cell_type": "code",
      "execution_count": 12,
      "metadata": {
        "colab": {
          "base_uri": "https://localhost:8080/"
        },
        "id": "pAiOk2ZbXYK8",
        "outputId": "0096524b-5f68-4776-e6ab-023120a08257"
      },
      "outputs": [
        {
          "data": {
            "text/plain": [
              "Alto de Pinheiros     409\n",
              "Jardim Guedala        403\n",
              "Jardim Paulista       309\n",
              "Brooklin Paulista     247\n",
              "Jardim Europa         240\n",
              "                     ... \n",
              "Jardim das Imbuias      1\n",
              "Vila Represa            1\n",
              "Vila Nancy              1\n",
              "Sítio Represa           1\n",
              "Vila Invernada          1\n",
              "Name: Bairro, Length: 701, dtype: int64"
            ]
          },
          "execution_count": 12,
          "metadata": {},
          "output_type": "execute_result"
        }
      ],
      "source": [
        "dados[\"Bairro\"].value_counts()"
      ]
    },
    {
      "cell_type": "code",
      "execution_count": 13,
      "metadata": {
        "colab": {
          "base_uri": "https://localhost:8080/",
          "height": 357
        },
        "id": "2uGH9Ug2Yy4h",
        "outputId": "8756ac24-0275-4500-a942-4feeea50fbe0"
      },
      "outputs": [
        {
          "data": {
            "text/plain": [
              "<AxesSubplot:>"
            ]
          },
          "execution_count": 13,
          "metadata": {},
          "output_type": "execute_result"
        },
        {
          "data": {
            "image/png": "[encoded data removed]",
            "text/plain": [
              "<Figure size 432x288 with 1 Axes>"
            ]
          },
          "metadata": {
            "needs_background": "light"
          },
          "output_type": "display_data"
        }
      ],
      "source": [
        "n_imoveis_bairro = dados[\"Bairro\"].value_counts()\n",
        "n_imoveis_bairro.head(10).plot.bar()"
      ]
    },
    {
      "cell_type": "markdown",
      "metadata": {
        "id": "ECNTtjSsaTu-"
      },
      "source": [
        "Desafios:\n",
        "\n",
        "1 - Realizar a média da metragem para cara um dos bairros (Paulo)\n",
        "\n",
        "2 - 2 formas de selecionar os dados por bairro (consultar os métodos na documentação do pandas) (Thiago)\n",
        "\n",
        "3 - Explorar alguns gráficos na documentação e aplicar nas demais colunas do DF, tentar colocar alguma conclusão (Thiago)\n",
        "\n",
        "4 - Pegar outros estatísticas dos dados, média, mediana, mim, max (Vivi)\n",
        "\n",
        "5 - Descobrir quais são os bairros que não tem nome de Rua. (Vivi)"
      ]
    },
    {
      "cell_type": "code",
      "execution_count": 14,
      "metadata": {
        "colab": {
          "base_uri": "https://localhost:8080/",
          "height": 206
        },
        "id": "zKpdD2UxZXNv",
        "outputId": "abf80277-6cba-44a7-92f6-8bd14d2ff7de"
      },
      "outputs": [
        {
          "data": {
            "text/html": [
              "<div>\n",
              "<style scoped>\n",
              "    .dataframe tbody tr th:only-of-type {\n",
              "        vertical-align: middle;\n",
              "    }\n",
              "\n",
              "    .dataframe tbody tr th {\n",
              "        vertical-align: top;\n",
              "    }\n",
              "\n",
              "    .dataframe thead th {\n",
              "        text-align: right;\n",
              "    }\n",
              "</style>\n",
              "<table border=\"1\" class=\"dataframe\">\n",
              "  <thead>\n",
              "    <tr style=\"text-align: right;\">\n",
              "      <th></th>\n",
              "      <th>Rua</th>\n",
              "      <th>Bairro</th>\n",
              "      <th>Cidade</th>\n",
              "      <th>Metragem</th>\n",
              "      <th>Quartos</th>\n",
              "      <th>Banheiros</th>\n",
              "      <th>Vagas</th>\n",
              "      <th>Valor</th>\n",
              "    </tr>\n",
              "  </thead>\n",
              "  <tbody>\n",
              "    <tr>\n",
              "      <th>0</th>\n",
              "      <td>Avenida Itacira, 255</td>\n",
              "      <td>Planalto Paulista</td>\n",
              "      <td>São Paulo</td>\n",
              "      <td>1000</td>\n",
              "      <td>4</td>\n",
              "      <td>8</td>\n",
              "      <td>6</td>\n",
              "      <td>R$ 7.000.000</td>\n",
              "    </tr>\n",
              "    <tr>\n",
              "      <th>1</th>\n",
              "      <td>Rua Aurelia Perez Alvarez, 42</td>\n",
              "      <td>Jardim dos Estados</td>\n",
              "      <td>São Paulo</td>\n",
              "      <td>496</td>\n",
              "      <td>4</td>\n",
              "      <td>4</td>\n",
              "      <td>4</td>\n",
              "      <td>R$ 3.700.000</td>\n",
              "    </tr>\n",
              "    <tr>\n",
              "      <th>2</th>\n",
              "      <td>Rua Alba Valdez</td>\n",
              "      <td>Jardim Reimberg</td>\n",
              "      <td>São Paulo</td>\n",
              "      <td>125</td>\n",
              "      <td>4</td>\n",
              "      <td>3</td>\n",
              "      <td>2</td>\n",
              "      <td>R$ 380.000</td>\n",
              "    </tr>\n",
              "    <tr>\n",
              "      <th>3</th>\n",
              "      <td>NaN</td>\n",
              "      <td>Jardim Morumbi</td>\n",
              "      <td>São Paulo</td>\n",
              "      <td>310</td>\n",
              "      <td>3</td>\n",
              "      <td>2</td>\n",
              "      <td>4</td>\n",
              "      <td>R$ 685.000</td>\n",
              "    </tr>\n",
              "    <tr>\n",
              "      <th>4</th>\n",
              "      <td>Rua Tobias Barreto, 195</td>\n",
              "      <td>Mooca</td>\n",
              "      <td>São Paulo</td>\n",
              "      <td>100</td>\n",
              "      <td>3</td>\n",
              "      <td>2</td>\n",
              "      <td>2</td>\n",
              "      <td>R$ 540.000</td>\n",
              "    </tr>\n",
              "  </tbody>\n",
              "</table>\n",
              "</div>"
            ],
            "text/plain": [
              "                              Rua              Bairro     Cidade  Metragem  \\\n",
              "0           Avenida Itacira, 255    Planalto Paulista  São Paulo      1000   \n",
              "1  Rua Aurelia Perez Alvarez, 42   Jardim dos Estados  São Paulo       496   \n",
              "2                 Rua Alba Valdez     Jardim Reimberg  São Paulo       125   \n",
              "3                             NaN      Jardim Morumbi  São Paulo       310   \n",
              "4        Rua Tobias Barreto, 195                Mooca  São Paulo       100   \n",
              "\n",
              "   Quartos  Banheiros  Vagas         Valor  \n",
              "0        4          8      6  R$ 7.000.000  \n",
              "1        4          4      4  R$ 3.700.000  \n",
              "2        4          3      2    R$ 380.000  \n",
              "3        3          2      4    R$ 685.000  \n",
              "4        3          2      2    R$ 540.000  "
            ]
          },
          "execution_count": 14,
          "metadata": {},
          "output_type": "execute_result"
        }
      ],
      "source": [
        "dados.head()"
      ]
    },
    {
      "cell_type": "code",
      "execution_count": 15,
      "metadata": {
        "colab": {
          "base_uri": "https://localhost:8080/"
        },
        "id": "xR_GHqjvhVHc",
        "outputId": "86413042-4097-49a0-f0ac-e44b1f4c4521"
      },
      "outputs": [
        {
          "name": "stdout",
          "output_type": "stream",
          "text": [
            "<class 'pandas.core.frame.DataFrame'>\n",
            "RangeIndex: 10008 entries, 0 to 10007\n",
            "Data columns (total 8 columns):\n",
            " #   Column     Non-Null Count  Dtype \n",
            "---  ------     --------------  ----- \n",
            " 0   Rua        6574 non-null   object\n",
            " 1   Bairro     9996 non-null   object\n",
            " 2   Cidade     10008 non-null  object\n",
            " 3   Metragem   10008 non-null  int64 \n",
            " 4   Quartos    10008 non-null  int64 \n",
            " 5   Banheiros  10008 non-null  int64 \n",
            " 6   Vagas      10008 non-null  int64 \n",
            " 7   Valor      10008 non-null  object\n",
            "dtypes: int64(4), object(4)\n",
            "memory usage: 625.6+ KB\n"
          ]
        }
      ],
      "source": [
        "dados.info()"
      ]
    },
    {
      "cell_type": "code",
      "execution_count": 35,
      "metadata": {
        "colab": {
          "base_uri": "https://localhost:8080/",
          "height": 36
        },
        "id": "l_G7jKHEhasI",
        "outputId": "85cd6456-2aca-4cd2-9991-681ab7b9f38b"
      },
      "outputs": [
        {
          "data": {
            "text/plain": [
              "'R$ 7.000.000'"
            ]
          },
          "execution_count": 35,
          "metadata": {},
          "output_type": "execute_result"
        }
      ],
      "source": [
        "dados[\"Valor\"][0]"
      ]
    },
    {
      "cell_type": "code",
      "execution_count": 17,
      "metadata": {
        "colab": {
          "base_uri": "https://localhost:8080/"
        },
        "id": "3puhnNe0hu5i",
        "outputId": "31c79fc8-84f4-41c7-faa7-b1fe9405aeb9"
      },
      "outputs": [
        {
          "data": {
            "text/plain": [
              "['R$', '7.000.000']"
            ]
          },
          "execution_count": 17,
          "metadata": {},
          "output_type": "execute_result"
        }
      ],
      "source": [
        "dados[\"Valor\"][0].split()"
      ]
    },
    {
      "cell_type": "code",
      "execution_count": 18,
      "metadata": {
        "colab": {
          "base_uri": "https://localhost:8080/",
          "height": 363
        },
        "id": "RYuhntlBiJUs",
        "outputId": "4136de1b-e38d-4a8b-f656-fcf99b794d6f"
      },
      "outputs": [
        {
          "data": {
            "text/html": [
              "<div>\n",
              "<style scoped>\n",
              "    .dataframe tbody tr th:only-of-type {\n",
              "        vertical-align: middle;\n",
              "    }\n",
              "\n",
              "    .dataframe tbody tr th {\n",
              "        vertical-align: top;\n",
              "    }\n",
              "\n",
              "    .dataframe thead th {\n",
              "        text-align: right;\n",
              "    }\n",
              "</style>\n",
              "<table border=\"1\" class=\"dataframe\">\n",
              "  <thead>\n",
              "    <tr style=\"text-align: right;\">\n",
              "      <th></th>\n",
              "      <th>Rua</th>\n",
              "      <th>Bairro</th>\n",
              "      <th>Cidade</th>\n",
              "      <th>Metragem</th>\n",
              "      <th>Quartos</th>\n",
              "      <th>Banheiros</th>\n",
              "      <th>Vagas</th>\n",
              "      <th>Valor</th>\n",
              "    </tr>\n",
              "  </thead>\n",
              "  <tbody>\n",
              "    <tr>\n",
              "      <th>9024</th>\n",
              "      <td>NaN</td>\n",
              "      <td>Planalto Paulista</td>\n",
              "      <td>São Paulo</td>\n",
              "      <td>195</td>\n",
              "      <td>3</td>\n",
              "      <td>3</td>\n",
              "      <td>3</td>\n",
              "      <td>R$ 680.000</td>\n",
              "    </tr>\n",
              "    <tr>\n",
              "      <th>8025</th>\n",
              "      <td>NaN</td>\n",
              "      <td>Parque dos Príncipes</td>\n",
              "      <td>São Paulo</td>\n",
              "      <td>270</td>\n",
              "      <td>3</td>\n",
              "      <td>4</td>\n",
              "      <td>5</td>\n",
              "      <td>R$ 1.150.000</td>\n",
              "    </tr>\n",
              "    <tr>\n",
              "      <th>1954</th>\n",
              "      <td>Rua Apicum</td>\n",
              "      <td>Vila Matilde</td>\n",
              "      <td>São Paulo</td>\n",
              "      <td>95</td>\n",
              "      <td>1</td>\n",
              "      <td>1</td>\n",
              "      <td>1</td>\n",
              "      <td>R$ 350.000</td>\n",
              "    </tr>\n",
              "    <tr>\n",
              "      <th>8897</th>\n",
              "      <td>NaN</td>\n",
              "      <td>Vila Tiradentes</td>\n",
              "      <td>São Paulo</td>\n",
              "      <td>150</td>\n",
              "      <td>3</td>\n",
              "      <td>3</td>\n",
              "      <td>2</td>\n",
              "      <td>R$ 580.000</td>\n",
              "    </tr>\n",
              "    <tr>\n",
              "      <th>9620</th>\n",
              "      <td>Rua Monte Alegre</td>\n",
              "      <td>Perdizes</td>\n",
              "      <td>São Paulo</td>\n",
              "      <td>280</td>\n",
              "      <td>3</td>\n",
              "      <td>5</td>\n",
              "      <td>4</td>\n",
              "      <td>R$ 2.350.000</td>\n",
              "    </tr>\n",
              "    <tr>\n",
              "      <th>5331</th>\n",
              "      <td>Rua Heitor Peixoto</td>\n",
              "      <td>Cambuci</td>\n",
              "      <td>São Paulo</td>\n",
              "      <td>225</td>\n",
              "      <td>3</td>\n",
              "      <td>4</td>\n",
              "      <td>1</td>\n",
              "      <td>R$ 1.000.000</td>\n",
              "    </tr>\n",
              "    <tr>\n",
              "      <th>9142</th>\n",
              "      <td>NaN</td>\n",
              "      <td>Sumaré</td>\n",
              "      <td>São Paulo</td>\n",
              "      <td>430</td>\n",
              "      <td>3</td>\n",
              "      <td>5</td>\n",
              "      <td>5</td>\n",
              "      <td>R$ 2.580.000</td>\n",
              "    </tr>\n",
              "    <tr>\n",
              "      <th>8807</th>\n",
              "      <td>Rua Portugal</td>\n",
              "      <td>Jardim Europa</td>\n",
              "      <td>São Paulo</td>\n",
              "      <td>324</td>\n",
              "      <td>3</td>\n",
              "      <td>4</td>\n",
              "      <td>2</td>\n",
              "      <td>R$ 5.000.000</td>\n",
              "    </tr>\n",
              "    <tr>\n",
              "      <th>5473</th>\n",
              "      <td>Rua Tibiriçá</td>\n",
              "      <td>Brooklin Paulista</td>\n",
              "      <td>São Paulo</td>\n",
              "      <td>300</td>\n",
              "      <td>4</td>\n",
              "      <td>5</td>\n",
              "      <td>3</td>\n",
              "      <td>R$ 1.400.000</td>\n",
              "    </tr>\n",
              "    <tr>\n",
              "      <th>4684</th>\n",
              "      <td>NaN</td>\n",
              "      <td>Chácara Meyer</td>\n",
              "      <td>São Paulo</td>\n",
              "      <td>268</td>\n",
              "      <td>3</td>\n",
              "      <td>4</td>\n",
              "      <td>6</td>\n",
              "      <td>R$ 1.500.000</td>\n",
              "    </tr>\n",
              "  </tbody>\n",
              "</table>\n",
              "</div>"
            ],
            "text/plain": [
              "                     Rua                Bairro     Cidade  Metragem  Quartos  \\\n",
              "9024                 NaN     Planalto Paulista  São Paulo       195        3   \n",
              "8025                 NaN  Parque dos Príncipes  São Paulo       270        3   \n",
              "1954          Rua Apicum          Vila Matilde  São Paulo        95        1   \n",
              "8897                 NaN       Vila Tiradentes  São Paulo       150        3   \n",
              "9620    Rua Monte Alegre              Perdizes  São Paulo       280        3   \n",
              "5331  Rua Heitor Peixoto               Cambuci  São Paulo       225        3   \n",
              "9142                 NaN                Sumaré  São Paulo       430        3   \n",
              "8807        Rua Portugal         Jardim Europa  São Paulo       324        3   \n",
              "5473        Rua Tibiriçá     Brooklin Paulista  São Paulo       300        4   \n",
              "4684                 NaN         Chácara Meyer  São Paulo       268        3   \n",
              "\n",
              "      Banheiros  Vagas         Valor  \n",
              "9024          3      3    R$ 680.000  \n",
              "8025          4      5  R$ 1.150.000  \n",
              "1954          1      1    R$ 350.000  \n",
              "8897          3      2    R$ 580.000  \n",
              "9620          5      4  R$ 2.350.000  \n",
              "5331          4      1  R$ 1.000.000  \n",
              "9142          5      5  R$ 2.580.000  \n",
              "8807          4      2  R$ 5.000.000  \n",
              "5473          5      3  R$ 1.400.000  \n",
              "4684          4      6  R$ 1.500.000  "
            ]
          },
          "execution_count": 18,
          "metadata": {},
          "output_type": "execute_result"
        }
      ],
      "source": [
        "dados.sample(10)"
      ]
    },
    {
      "cell_type": "code",
      "execution_count": 19,
      "metadata": {
        "colab": {
          "base_uri": "https://localhost:8080/",
          "height": 424
        },
        "id": "MhNLxZ8wiYSY",
        "outputId": "c4be1759-3235-4f34-cc1c-c7302b58217f"
      },
      "outputs": [
        {
          "data": {
            "text/html": [
              "<div>\n",
              "<style scoped>\n",
              "    .dataframe tbody tr th:only-of-type {\n",
              "        vertical-align: middle;\n",
              "    }\n",
              "\n",
              "    .dataframe tbody tr th {\n",
              "        vertical-align: top;\n",
              "    }\n",
              "\n",
              "    .dataframe thead th {\n",
              "        text-align: right;\n",
              "    }\n",
              "</style>\n",
              "<table border=\"1\" class=\"dataframe\">\n",
              "  <thead>\n",
              "    <tr style=\"text-align: right;\">\n",
              "      <th></th>\n",
              "      <th>0</th>\n",
              "      <th>1</th>\n",
              "      <th>2</th>\n",
              "    </tr>\n",
              "  </thead>\n",
              "  <tbody>\n",
              "    <tr>\n",
              "      <th>0</th>\n",
              "      <td>R$</td>\n",
              "      <td>7.000.000</td>\n",
              "      <td>None</td>\n",
              "    </tr>\n",
              "    <tr>\n",
              "      <th>1</th>\n",
              "      <td>R$</td>\n",
              "      <td>3.700.000</td>\n",
              "      <td>None</td>\n",
              "    </tr>\n",
              "    <tr>\n",
              "      <th>2</th>\n",
              "      <td>R$</td>\n",
              "      <td>380.000</td>\n",
              "      <td>None</td>\n",
              "    </tr>\n",
              "    <tr>\n",
              "      <th>3</th>\n",
              "      <td>R$</td>\n",
              "      <td>685.000</td>\n",
              "      <td>None</td>\n",
              "    </tr>\n",
              "    <tr>\n",
              "      <th>4</th>\n",
              "      <td>R$</td>\n",
              "      <td>540.000</td>\n",
              "      <td>None</td>\n",
              "    </tr>\n",
              "    <tr>\n",
              "      <th>...</th>\n",
              "      <td>...</td>\n",
              "      <td>...</td>\n",
              "      <td>...</td>\n",
              "    </tr>\n",
              "    <tr>\n",
              "      <th>10003</th>\n",
              "      <td>R$</td>\n",
              "      <td>665.000</td>\n",
              "      <td>None</td>\n",
              "    </tr>\n",
              "    <tr>\n",
              "      <th>10004</th>\n",
              "      <td>R$</td>\n",
              "      <td>2.300.000</td>\n",
              "      <td>None</td>\n",
              "    </tr>\n",
              "    <tr>\n",
              "      <th>10005</th>\n",
              "      <td>R$</td>\n",
              "      <td>1.050.000</td>\n",
              "      <td>None</td>\n",
              "    </tr>\n",
              "    <tr>\n",
              "      <th>10006</th>\n",
              "      <td>R$</td>\n",
              "      <td>2.200</td>\n",
              "      <td>/Mês</td>\n",
              "    </tr>\n",
              "    <tr>\n",
              "      <th>10007</th>\n",
              "      <td>R$</td>\n",
              "      <td>270.000</td>\n",
              "      <td>None</td>\n",
              "    </tr>\n",
              "  </tbody>\n",
              "</table>\n",
              "<p>10008 rows × 3 columns</p>\n",
              "</div>"
            ],
            "text/plain": [
              "        0          1     2\n",
              "0      R$  7.000.000  None\n",
              "1      R$  3.700.000  None\n",
              "2      R$    380.000  None\n",
              "3      R$    685.000  None\n",
              "4      R$    540.000  None\n",
              "...    ..        ...   ...\n",
              "10003  R$    665.000  None\n",
              "10004  R$  2.300.000  None\n",
              "10005  R$  1.050.000  None\n",
              "10006  R$      2.200  /Mês\n",
              "10007  R$    270.000  None\n",
              "\n",
              "[10008 rows x 3 columns]"
            ]
          },
          "execution_count": 19,
          "metadata": {},
          "output_type": "execute_result"
        }
      ],
      "source": [
        "dados[\"Valor\"].str.split(expand = True)"
      ]
    },
    {
      "cell_type": "code",
      "execution_count": 20,
      "metadata": {
        "colab": {
          "base_uri": "https://localhost:8080/"
        },
        "id": "r9CCGhxMi3Bv",
        "outputId": "c72fdecf-1fd0-4682-a5bf-e83ac0794f4c"
      },
      "outputs": [
        {
          "data": {
            "text/plain": [
              "1038"
            ]
          },
          "execution_count": 20,
          "metadata": {},
          "output_type": "execute_result"
        }
      ],
      "source": [
        "len(dados[\"Valor\"].str.split(expand = True)[1].unique())"
      ]
    },
    {
      "cell_type": "code",
      "execution_count": null,
      "metadata": {
        "id": "Sey29FzSkgcK"
      },
      "outputs": [],
      "source": []
    },
    {
      "cell_type": "code",
      "execution_count": 21,
      "metadata": {
        "colab": {
          "base_uri": "https://localhost:8080/"
        },
        "id": "phK23wq-jkAD",
        "outputId": "78b84b07-50b3-41b4-b380-530da0f3153a"
      },
      "outputs": [
        {
          "data": {
            "text/plain": [
              "array([None, '/Mês', '/Ano', '/Dia'], dtype=object)"
            ]
          },
          "execution_count": 21,
          "metadata": {},
          "output_type": "execute_result"
        }
      ],
      "source": [
        "dados[\"Valor\"].str.split(expand = True)[2].unique()"
      ]
    },
    {
      "cell_type": "code",
      "execution_count": 22,
      "metadata": {
        "colab": {
          "base_uri": "https://localhost:8080/",
          "height": 424
        },
        "id": "zxtX299sk7AG",
        "outputId": "fd3e0708-6a7e-4255-ca3e-392fbef73638"
      },
      "outputs": [
        {
          "data": {
            "text/html": [
              "<div>\n",
              "<style scoped>\n",
              "    .dataframe tbody tr th:only-of-type {\n",
              "        vertical-align: middle;\n",
              "    }\n",
              "\n",
              "    .dataframe tbody tr th {\n",
              "        vertical-align: top;\n",
              "    }\n",
              "\n",
              "    .dataframe thead th {\n",
              "        text-align: right;\n",
              "    }\n",
              "</style>\n",
              "<table border=\"1\" class=\"dataframe\">\n",
              "  <thead>\n",
              "    <tr style=\"text-align: right;\">\n",
              "      <th></th>\n",
              "      <th>Valor</th>\n",
              "      <th>Bairro</th>\n",
              "    </tr>\n",
              "  </thead>\n",
              "  <tbody>\n",
              "    <tr>\n",
              "      <th>0</th>\n",
              "      <td>R$ 7.000.000</td>\n",
              "      <td>Planalto Paulista</td>\n",
              "    </tr>\n",
              "    <tr>\n",
              "      <th>1</th>\n",
              "      <td>R$ 3.700.000</td>\n",
              "      <td>Jardim dos Estados</td>\n",
              "    </tr>\n",
              "    <tr>\n",
              "      <th>2</th>\n",
              "      <td>R$ 380.000</td>\n",
              "      <td>Jardim Reimberg</td>\n",
              "    </tr>\n",
              "    <tr>\n",
              "      <th>3</th>\n",
              "      <td>R$ 685.000</td>\n",
              "      <td>Jardim Morumbi</td>\n",
              "    </tr>\n",
              "    <tr>\n",
              "      <th>4</th>\n",
              "      <td>R$ 540.000</td>\n",
              "      <td>Mooca</td>\n",
              "    </tr>\n",
              "    <tr>\n",
              "      <th>...</th>\n",
              "      <td>...</td>\n",
              "      <td>...</td>\n",
              "    </tr>\n",
              "    <tr>\n",
              "      <th>10003</th>\n",
              "      <td>R$ 665.000</td>\n",
              "      <td>Vila Sofia</td>\n",
              "    </tr>\n",
              "    <tr>\n",
              "      <th>10004</th>\n",
              "      <td>R$ 2.300.000</td>\n",
              "      <td>Bosque da Saúde</td>\n",
              "    </tr>\n",
              "    <tr>\n",
              "      <th>10005</th>\n",
              "      <td>R$ 1.050.000</td>\n",
              "      <td>Vila da Saúde</td>\n",
              "    </tr>\n",
              "    <tr>\n",
              "      <th>10006</th>\n",
              "      <td>R$ 2.200\\n                      /Mês</td>\n",
              "      <td>Vila Oratório</td>\n",
              "    </tr>\n",
              "    <tr>\n",
              "      <th>10007</th>\n",
              "      <td>R$ 270.000</td>\n",
              "      <td>Vila Alpina</td>\n",
              "    </tr>\n",
              "  </tbody>\n",
              "</table>\n",
              "<p>10008 rows × 2 columns</p>\n",
              "</div>"
            ],
            "text/plain": [
              "                                      Valor              Bairro\n",
              "0                              R$ 7.000.000   Planalto Paulista\n",
              "1                              R$ 3.700.000  Jardim dos Estados\n",
              "2                                R$ 380.000     Jardim Reimberg\n",
              "3                                R$ 685.000      Jardim Morumbi\n",
              "4                                R$ 540.000               Mooca\n",
              "...                                     ...                 ...\n",
              "10003                            R$ 665.000          Vila Sofia\n",
              "10004                          R$ 2.300.000     Bosque da Saúde\n",
              "10005                          R$ 1.050.000       Vila da Saúde\n",
              "10006  R$ 2.200\\n                      /Mês       Vila Oratório\n",
              "10007                            R$ 270.000         Vila Alpina\n",
              "\n",
              "[10008 rows x 2 columns]"
            ]
          },
          "execution_count": 22,
          "metadata": {},
          "output_type": "execute_result"
        }
      ],
      "source": [
        "dados[[\"Valor\", \"Bairro\"]]"
      ]
    },
    {
      "cell_type": "code",
      "execution_count": 23,
      "metadata": {
        "colab": {
          "base_uri": "https://localhost:8080/",
          "height": 206
        },
        "id": "kvmSFmtMkhCi",
        "outputId": "a8289b79-f50d-4571-dd7e-ec55444ea958"
      },
      "outputs": [
        {
          "data": {
            "text/html": [
              "<div>\n",
              "<style scoped>\n",
              "    .dataframe tbody tr th:only-of-type {\n",
              "        vertical-align: middle;\n",
              "    }\n",
              "\n",
              "    .dataframe tbody tr th {\n",
              "        vertical-align: top;\n",
              "    }\n",
              "\n",
              "    .dataframe thead th {\n",
              "        text-align: right;\n",
              "    }\n",
              "</style>\n",
              "<table border=\"1\" class=\"dataframe\">\n",
              "  <thead>\n",
              "    <tr style=\"text-align: right;\">\n",
              "      <th></th>\n",
              "      <th>Rua</th>\n",
              "      <th>Bairro</th>\n",
              "      <th>Cidade</th>\n",
              "      <th>Metragem</th>\n",
              "      <th>Quartos</th>\n",
              "      <th>Banheiros</th>\n",
              "      <th>Vagas</th>\n",
              "      <th>Valor</th>\n",
              "      <th>Moeda</th>\n",
              "      <th>Valor_anuncio</th>\n",
              "      <th>Tipo_anuncio</th>\n",
              "    </tr>\n",
              "  </thead>\n",
              "  <tbody>\n",
              "    <tr>\n",
              "      <th>0</th>\n",
              "      <td>Avenida Itacira, 255</td>\n",
              "      <td>Planalto Paulista</td>\n",
              "      <td>São Paulo</td>\n",
              "      <td>1000</td>\n",
              "      <td>4</td>\n",
              "      <td>8</td>\n",
              "      <td>6</td>\n",
              "      <td>R$ 7.000.000</td>\n",
              "      <td>R$</td>\n",
              "      <td>7.000.000</td>\n",
              "      <td>None</td>\n",
              "    </tr>\n",
              "    <tr>\n",
              "      <th>1</th>\n",
              "      <td>Rua Aurelia Perez Alvarez, 42</td>\n",
              "      <td>Jardim dos Estados</td>\n",
              "      <td>São Paulo</td>\n",
              "      <td>496</td>\n",
              "      <td>4</td>\n",
              "      <td>4</td>\n",
              "      <td>4</td>\n",
              "      <td>R$ 3.700.000</td>\n",
              "      <td>R$</td>\n",
              "      <td>3.700.000</td>\n",
              "      <td>None</td>\n",
              "    </tr>\n",
              "    <tr>\n",
              "      <th>2</th>\n",
              "      <td>Rua Alba Valdez</td>\n",
              "      <td>Jardim Reimberg</td>\n",
              "      <td>São Paulo</td>\n",
              "      <td>125</td>\n",
              "      <td>4</td>\n",
              "      <td>3</td>\n",
              "      <td>2</td>\n",
              "      <td>R$ 380.000</td>\n",
              "      <td>R$</td>\n",
              "      <td>380.000</td>\n",
              "      <td>None</td>\n",
              "    </tr>\n",
              "    <tr>\n",
              "      <th>3</th>\n",
              "      <td>NaN</td>\n",
              "      <td>Jardim Morumbi</td>\n",
              "      <td>São Paulo</td>\n",
              "      <td>310</td>\n",
              "      <td>3</td>\n",
              "      <td>2</td>\n",
              "      <td>4</td>\n",
              "      <td>R$ 685.000</td>\n",
              "      <td>R$</td>\n",
              "      <td>685.000</td>\n",
              "      <td>None</td>\n",
              "    </tr>\n",
              "    <tr>\n",
              "      <th>4</th>\n",
              "      <td>Rua Tobias Barreto, 195</td>\n",
              "      <td>Mooca</td>\n",
              "      <td>São Paulo</td>\n",
              "      <td>100</td>\n",
              "      <td>3</td>\n",
              "      <td>2</td>\n",
              "      <td>2</td>\n",
              "      <td>R$ 540.000</td>\n",
              "      <td>R$</td>\n",
              "      <td>540.000</td>\n",
              "      <td>None</td>\n",
              "    </tr>\n",
              "  </tbody>\n",
              "</table>\n",
              "</div>"
            ],
            "text/plain": [
              "                              Rua              Bairro     Cidade  Metragem  \\\n",
              "0           Avenida Itacira, 255    Planalto Paulista  São Paulo      1000   \n",
              "1  Rua Aurelia Perez Alvarez, 42   Jardim dos Estados  São Paulo       496   \n",
              "2                 Rua Alba Valdez     Jardim Reimberg  São Paulo       125   \n",
              "3                             NaN      Jardim Morumbi  São Paulo       310   \n",
              "4        Rua Tobias Barreto, 195                Mooca  São Paulo       100   \n",
              "\n",
              "   Quartos  Banheiros  Vagas         Valor Moeda Valor_anuncio Tipo_anuncio  \n",
              "0        4          8      6  R$ 7.000.000    R$     7.000.000         None  \n",
              "1        4          4      4  R$ 3.700.000    R$     3.700.000         None  \n",
              "2        4          3      2    R$ 380.000    R$       380.000         None  \n",
              "3        3          2      4    R$ 685.000    R$       685.000         None  \n",
              "4        3          2      2    R$ 540.000    R$       540.000         None  "
            ]
          },
          "execution_count": 23,
          "metadata": {},
          "output_type": "execute_result"
        }
      ],
      "source": [
        "dados[[\"Moeda\", \"Valor_anuncio\", \"Tipo_anuncio\"]] = dados[\"Valor\"].str.split(expand = True)\n",
        "dados.head()"
      ]
    },
    {
      "cell_type": "code",
      "execution_count": 24,
      "metadata": {
        "colab": {
          "base_uri": "https://localhost:8080/"
        },
        "id": "lrD7YcMXkrq0",
        "outputId": "073011e8-2dc9-47f1-de62-5b969c5df850"
      },
      "outputs": [
        {
          "data": {
            "text/plain": [
              "array([None], dtype=object)"
            ]
          },
          "execution_count": 24,
          "metadata": {},
          "output_type": "execute_result"
        }
      ],
      "source": [
        "dados[dados[\"Tipo_anuncio\"].isnull()][\"Tipo_anuncio\"].unique()"
      ]
    },
    {
      "cell_type": "code",
      "execution_count": 25,
      "metadata": {
        "colab": {
          "base_uri": "https://localhost:8080/",
          "height": 424
        },
        "id": "cHbLmfrcl2nn",
        "outputId": "0776068c-80a3-4aef-d1d9-161445e02b8b"
      },
      "outputs": [
        {
          "data": {
            "text/html": [
              "<div>\n",
              "<style scoped>\n",
              "    .dataframe tbody tr th:only-of-type {\n",
              "        vertical-align: middle;\n",
              "    }\n",
              "\n",
              "    .dataframe tbody tr th {\n",
              "        vertical-align: top;\n",
              "    }\n",
              "\n",
              "    .dataframe thead th {\n",
              "        text-align: right;\n",
              "    }\n",
              "</style>\n",
              "<table border=\"1\" class=\"dataframe\">\n",
              "  <thead>\n",
              "    <tr style=\"text-align: right;\">\n",
              "      <th></th>\n",
              "      <th>Rua</th>\n",
              "      <th>Bairro</th>\n",
              "      <th>Cidade</th>\n",
              "      <th>Metragem</th>\n",
              "      <th>Quartos</th>\n",
              "      <th>Banheiros</th>\n",
              "      <th>Vagas</th>\n",
              "      <th>Valor</th>\n",
              "      <th>Moeda</th>\n",
              "      <th>Valor_anuncio</th>\n",
              "      <th>Tipo_anuncio</th>\n",
              "    </tr>\n",
              "  </thead>\n",
              "  <tbody>\n",
              "    <tr>\n",
              "      <th>0</th>\n",
              "      <td>Avenida Itacira, 255</td>\n",
              "      <td>Planalto Paulista</td>\n",
              "      <td>São Paulo</td>\n",
              "      <td>1000</td>\n",
              "      <td>4</td>\n",
              "      <td>8</td>\n",
              "      <td>6</td>\n",
              "      <td>R$ 7.000.000</td>\n",
              "      <td>R$</td>\n",
              "      <td>7.000.000</td>\n",
              "      <td>None</td>\n",
              "    </tr>\n",
              "    <tr>\n",
              "      <th>1</th>\n",
              "      <td>Rua Aurelia Perez Alvarez, 42</td>\n",
              "      <td>Jardim dos Estados</td>\n",
              "      <td>São Paulo</td>\n",
              "      <td>496</td>\n",
              "      <td>4</td>\n",
              "      <td>4</td>\n",
              "      <td>4</td>\n",
              "      <td>R$ 3.700.000</td>\n",
              "      <td>R$</td>\n",
              "      <td>3.700.000</td>\n",
              "      <td>None</td>\n",
              "    </tr>\n",
              "    <tr>\n",
              "      <th>2</th>\n",
              "      <td>Rua Alba Valdez</td>\n",
              "      <td>Jardim Reimberg</td>\n",
              "      <td>São Paulo</td>\n",
              "      <td>125</td>\n",
              "      <td>4</td>\n",
              "      <td>3</td>\n",
              "      <td>2</td>\n",
              "      <td>R$ 380.000</td>\n",
              "      <td>R$</td>\n",
              "      <td>380.000</td>\n",
              "      <td>None</td>\n",
              "    </tr>\n",
              "    <tr>\n",
              "      <th>3</th>\n",
              "      <td>NaN</td>\n",
              "      <td>Jardim Morumbi</td>\n",
              "      <td>São Paulo</td>\n",
              "      <td>310</td>\n",
              "      <td>3</td>\n",
              "      <td>2</td>\n",
              "      <td>4</td>\n",
              "      <td>R$ 685.000</td>\n",
              "      <td>R$</td>\n",
              "      <td>685.000</td>\n",
              "      <td>None</td>\n",
              "    </tr>\n",
              "    <tr>\n",
              "      <th>4</th>\n",
              "      <td>Rua Tobias Barreto, 195</td>\n",
              "      <td>Mooca</td>\n",
              "      <td>São Paulo</td>\n",
              "      <td>100</td>\n",
              "      <td>3</td>\n",
              "      <td>2</td>\n",
              "      <td>2</td>\n",
              "      <td>R$ 540.000</td>\n",
              "      <td>R$</td>\n",
              "      <td>540.000</td>\n",
              "      <td>None</td>\n",
              "    </tr>\n",
              "    <tr>\n",
              "      <th>...</th>\n",
              "      <td>...</td>\n",
              "      <td>...</td>\n",
              "      <td>...</td>\n",
              "      <td>...</td>\n",
              "      <td>...</td>\n",
              "      <td>...</td>\n",
              "      <td>...</td>\n",
              "      <td>...</td>\n",
              "      <td>...</td>\n",
              "      <td>...</td>\n",
              "      <td>...</td>\n",
              "    </tr>\n",
              "    <tr>\n",
              "      <th>10002</th>\n",
              "      <td>Avenida Odila</td>\n",
              "      <td>Planalto Paulista</td>\n",
              "      <td>São Paulo</td>\n",
              "      <td>267</td>\n",
              "      <td>3</td>\n",
              "      <td>6</td>\n",
              "      <td>4</td>\n",
              "      <td>R$ 1.500.000</td>\n",
              "      <td>R$</td>\n",
              "      <td>1.500.000</td>\n",
              "      <td>None</td>\n",
              "    </tr>\n",
              "    <tr>\n",
              "      <th>10003</th>\n",
              "      <td>Rua Tapuçu</td>\n",
              "      <td>Vila Sofia</td>\n",
              "      <td>São Paulo</td>\n",
              "      <td>95</td>\n",
              "      <td>2</td>\n",
              "      <td>2</td>\n",
              "      <td>2</td>\n",
              "      <td>R$ 665.000</td>\n",
              "      <td>R$</td>\n",
              "      <td>665.000</td>\n",
              "      <td>None</td>\n",
              "    </tr>\n",
              "    <tr>\n",
              "      <th>10004</th>\n",
              "      <td>Rua Guararema</td>\n",
              "      <td>Bosque da Saúde</td>\n",
              "      <td>São Paulo</td>\n",
              "      <td>605</td>\n",
              "      <td>8</td>\n",
              "      <td>7</td>\n",
              "      <td>5</td>\n",
              "      <td>R$ 2.300.000</td>\n",
              "      <td>R$</td>\n",
              "      <td>2.300.000</td>\n",
              "      <td>None</td>\n",
              "    </tr>\n",
              "    <tr>\n",
              "      <th>10005</th>\n",
              "      <td>Rua Estero Belaco</td>\n",
              "      <td>Vila da Saúde</td>\n",
              "      <td>São Paulo</td>\n",
              "      <td>205</td>\n",
              "      <td>3</td>\n",
              "      <td>3</td>\n",
              "      <td>6</td>\n",
              "      <td>R$ 1.050.000</td>\n",
              "      <td>R$</td>\n",
              "      <td>1.050.000</td>\n",
              "      <td>None</td>\n",
              "    </tr>\n",
              "    <tr>\n",
              "      <th>10007</th>\n",
              "      <td>Rua Barão de Tramandaí, 0</td>\n",
              "      <td>Vila Alpina</td>\n",
              "      <td>São Paulo</td>\n",
              "      <td>122</td>\n",
              "      <td>3</td>\n",
              "      <td>2</td>\n",
              "      <td>2</td>\n",
              "      <td>R$ 270.000</td>\n",
              "      <td>R$</td>\n",
              "      <td>270.000</td>\n",
              "      <td>None</td>\n",
              "    </tr>\n",
              "  </tbody>\n",
              "</table>\n",
              "<p>9156 rows × 11 columns</p>\n",
              "</div>"
            ],
            "text/plain": [
              "                                  Rua              Bairro     Cidade  \\\n",
              "0               Avenida Itacira, 255    Planalto Paulista  São Paulo   \n",
              "1      Rua Aurelia Perez Alvarez, 42   Jardim dos Estados  São Paulo   \n",
              "2                     Rua Alba Valdez     Jardim Reimberg  São Paulo   \n",
              "3                                 NaN      Jardim Morumbi  São Paulo   \n",
              "4            Rua Tobias Barreto, 195                Mooca  São Paulo   \n",
              "...                               ...                 ...        ...   \n",
              "10002                   Avenida Odila   Planalto Paulista  São Paulo   \n",
              "10003                      Rua Tapuçu          Vila Sofia  São Paulo   \n",
              "10004                   Rua Guararema     Bosque da Saúde  São Paulo   \n",
              "10005               Rua Estero Belaco       Vila da Saúde  São Paulo   \n",
              "10007      Rua Barão de Tramandaí, 0          Vila Alpina  São Paulo   \n",
              "\n",
              "       Metragem  Quartos  Banheiros  Vagas         Valor Moeda Valor_anuncio  \\\n",
              "0          1000        4          8      6  R$ 7.000.000    R$     7.000.000   \n",
              "1           496        4          4      4  R$ 3.700.000    R$     3.700.000   \n",
              "2           125        4          3      2    R$ 380.000    R$       380.000   \n",
              "3           310        3          2      4    R$ 685.000    R$       685.000   \n",
              "4           100        3          2      2    R$ 540.000    R$       540.000   \n",
              "...         ...      ...        ...    ...           ...   ...           ...   \n",
              "10002       267        3          6      4  R$ 1.500.000    R$     1.500.000   \n",
              "10003        95        2          2      2    R$ 665.000    R$       665.000   \n",
              "10004       605        8          7      5  R$ 2.300.000    R$     2.300.000   \n",
              "10005       205        3          3      6  R$ 1.050.000    R$     1.050.000   \n",
              "10007       122        3          2      2    R$ 270.000    R$       270.000   \n",
              "\n",
              "      Tipo_anuncio  \n",
              "0             None  \n",
              "1             None  \n",
              "2             None  \n",
              "3             None  \n",
              "4             None  \n",
              "...            ...  \n",
              "10002         None  \n",
              "10003         None  \n",
              "10004         None  \n",
              "10005         None  \n",
              "10007         None  \n",
              "\n",
              "[9156 rows x 11 columns]"
            ]
          },
          "execution_count": 25,
          "metadata": {},
          "output_type": "execute_result"
        }
      ],
      "source": [
        "dados_vendas = dados[dados[\"Tipo_anuncio\"].isnull()]\n",
        "dados_vendas"
      ]
    },
    {
      "cell_type": "code",
      "execution_count": 26,
      "metadata": {
        "colab": {
          "base_uri": "https://localhost:8080/"
        },
        "id": "nHWtFRfImJEC",
        "outputId": "9bde114f-c621-4e61-97dd-9ec8c44f82a7"
      },
      "outputs": [
        {
          "name": "stdout",
          "output_type": "stream",
          "text": [
            "<class 'pandas.core.frame.DataFrame'>\n",
            "Int64Index: 9156 entries, 0 to 10007\n",
            "Data columns (total 11 columns):\n",
            " #   Column         Non-Null Count  Dtype \n",
            "---  ------         --------------  ----- \n",
            " 0   Rua            6107 non-null   object\n",
            " 1   Bairro         9146 non-null   object\n",
            " 2   Cidade         9156 non-null   object\n",
            " 3   Metragem       9156 non-null   int64 \n",
            " 4   Quartos        9156 non-null   int64 \n",
            " 5   Banheiros      9156 non-null   int64 \n",
            " 6   Vagas          9156 non-null   int64 \n",
            " 7   Valor          9156 non-null   object\n",
            " 8   Moeda          9156 non-null   object\n",
            " 9   Valor_anuncio  9156 non-null   object\n",
            " 10  Tipo_anuncio   0 non-null      object\n",
            "dtypes: int64(4), object(7)\n",
            "memory usage: 858.4+ KB\n"
          ]
        }
      ],
      "source": [
        "dados_vendas.info()"
      ]
    },
    {
      "cell_type": "code",
      "execution_count": 27,
      "metadata": {
        "colab": {
          "base_uri": "https://localhost:8080/"
        },
        "id": "gd7XVEXFmV_m",
        "outputId": "46b1544d-a547-44e6-b4d4-47292b3e2812"
      },
      "outputs": [
        {
          "name": "stderr",
          "output_type": "stream",
          "text": [
            "C:\\Users\\aleav\\AppData\\Local\\Temp\\ipykernel_20516\\3144433095.py:1: FutureWarning: The default value of regex will change from True to False in a future version. In addition, single character regular expressions will *not* be treated as literal strings when regex=True.\n",
            "  dados_vendas[\"Valor_anuncio\"].str.replace(\".\",\"\").astype(float)\n"
          ]
        },
        {
          "data": {
            "text/plain": [
              "0        7000000.0\n",
              "1        3700000.0\n",
              "2         380000.0\n",
              "3         685000.0\n",
              "4         540000.0\n",
              "           ...    \n",
              "10002    1500000.0\n",
              "10003     665000.0\n",
              "10004    2300000.0\n",
              "10005    1050000.0\n",
              "10007     270000.0\n",
              "Name: Valor_anuncio, Length: 9156, dtype: float64"
            ]
          },
          "execution_count": 27,
          "metadata": {},
          "output_type": "execute_result"
        }
      ],
      "source": [
        "dados_vendas[\"Valor_anuncio\"].str.replace(\".\",\"\").astype(float)"
      ]
    },
    {
      "cell_type": "code",
      "execution_count": 28,
      "metadata": {
        "colab": {
          "base_uri": "https://localhost:8080/"
        },
        "id": "L8a-mFvmnx5M",
        "outputId": "0b3c4e39-ff2c-4657-915b-0fec21c33897"
      },
      "outputs": [
        {
          "name": "stderr",
          "output_type": "stream",
          "text": [
            "C:\\Users\\aleav\\AppData\\Local\\Temp\\ipykernel_20516\\3338901845.py:1: FutureWarning: The default value of regex will change from True to False in a future version. In addition, single character regular expressions will *not* be treated as literal strings when regex=True.\n",
            "  dados_vendas[\"Valor_anuncio_float\"] = dados_vendas[\"Valor_anuncio\"].str.replace(\".\",\"\").astype(float)\n",
            "C:\\Users\\aleav\\AppData\\Local\\Temp\\ipykernel_20516\\3338901845.py:1: SettingWithCopyWarning: \n",
            "A value is trying to be set on a copy of a slice from a DataFrame.\n",
            "Try using .loc[row_indexer,col_indexer] = value instead\n",
            "\n",
            "See the caveats in the documentation: https://pandas.pydata.org/pandas-docs/stable/user_guide/indexing.html#returning-a-view-versus-a-copy\n",
            "  dados_vendas[\"Valor_anuncio_float\"] = dados_vendas[\"Valor_anuncio\"].str.replace(\".\",\"\").astype(float)\n"
          ]
        }
      ],
      "source": [
        "dados_vendas[\"Valor_anuncio_float\"] = dados_vendas[\"Valor_anuncio\"].str.replace(\".\",\"\").astype(float)"
      ]
    },
    {
      "cell_type": "code",
      "execution_count": 29,
      "metadata": {
        "colab": {
          "base_uri": "https://localhost:8080/"
        },
        "id": "ubBPRUsYoVYV",
        "outputId": "1b41f7bf-471b-42d2-a789-444eba6a7232"
      },
      "outputs": [
        {
          "name": "stdout",
          "output_type": "stream",
          "text": [
            "<class 'pandas.core.frame.DataFrame'>\n",
            "Int64Index: 9156 entries, 0 to 10007\n",
            "Data columns (total 12 columns):\n",
            " #   Column               Non-Null Count  Dtype  \n",
            "---  ------               --------------  -----  \n",
            " 0   Rua                  6107 non-null   object \n",
            " 1   Bairro               9146 non-null   object \n",
            " 2   Cidade               9156 non-null   object \n",
            " 3   Metragem             9156 non-null   int64  \n",
            " 4   Quartos              9156 non-null   int64  \n",
            " 5   Banheiros            9156 non-null   int64  \n",
            " 6   Vagas                9156 non-null   int64  \n",
            " 7   Valor                9156 non-null   object \n",
            " 8   Moeda                9156 non-null   object \n",
            " 9   Valor_anuncio        9156 non-null   object \n",
            " 10  Tipo_anuncio         0 non-null      object \n",
            " 11  Valor_anuncio_float  9156 non-null   float64\n",
            "dtypes: float64(1), int64(4), object(7)\n",
            "memory usage: 929.9+ KB\n"
          ]
        }
      ],
      "source": [
        "dados_vendas.info()"
      ]
    },
    {
      "cell_type": "code",
      "execution_count": 30,
      "metadata": {
        "colab": {
          "base_uri": "https://localhost:8080/",
          "height": 296
        },
        "id": "huXp4MBXo3Ma",
        "outputId": "deb3d4a7-15a3-4381-fed5-a07a748dea39"
      },
      "outputs": [
        {
          "data": {
            "text/plain": [
              "<AxesSubplot:ylabel='Frequency'>"
            ]
          },
          "execution_count": 30,
          "metadata": {},
          "output_type": "execute_result"
        },
        {
          "data": {
            "image/png": "[encoded data removed]",
            "text/plain": [
              "<Figure size 432x288 with 1 Axes>"
            ]
          },
          "metadata": {
            "needs_background": "light"
          },
          "output_type": "display_data"
        }
      ],
      "source": [
        "dados_vendas[\"Valor_anuncio_float\"].plot.hist(bins = 50)"
      ]
    },
    {
      "cell_type": "code",
      "execution_count": 31,
      "metadata": {
        "colab": {
          "base_uri": "https://localhost:8080/",
          "height": 300
        },
        "id": "cXPlpOJFpGos",
        "outputId": "1618fdce-52cf-4d8d-d1d4-3711e618871f"
      },
      "outputs": [
        {
          "data": {
            "text/html": [
              "<div>\n",
              "<style scoped>\n",
              "    .dataframe tbody tr th:only-of-type {\n",
              "        vertical-align: middle;\n",
              "    }\n",
              "\n",
              "    .dataframe tbody tr th {\n",
              "        vertical-align: top;\n",
              "    }\n",
              "\n",
              "    .dataframe thead th {\n",
              "        text-align: right;\n",
              "    }\n",
              "</style>\n",
              "<table border=\"1\" class=\"dataframe\">\n",
              "  <thead>\n",
              "    <tr style=\"text-align: right;\">\n",
              "      <th></th>\n",
              "      <th>Metragem</th>\n",
              "      <th>Quartos</th>\n",
              "      <th>Banheiros</th>\n",
              "      <th>Vagas</th>\n",
              "      <th>Valor_anuncio_float</th>\n",
              "    </tr>\n",
              "  </thead>\n",
              "  <tbody>\n",
              "    <tr>\n",
              "      <th>count</th>\n",
              "      <td>9156.00</td>\n",
              "      <td>9156.00</td>\n",
              "      <td>9156.00</td>\n",
              "      <td>9156.00</td>\n",
              "      <td>9156.00</td>\n",
              "    </tr>\n",
              "    <tr>\n",
              "      <th>mean</th>\n",
              "      <td>434.42</td>\n",
              "      <td>3.45</td>\n",
              "      <td>3.80</td>\n",
              "      <td>3.96</td>\n",
              "      <td>3052202.96</td>\n",
              "    </tr>\n",
              "    <tr>\n",
              "      <th>std</th>\n",
              "      <td>7856.42</td>\n",
              "      <td>1.05</td>\n",
              "      <td>1.97</td>\n",
              "      <td>2.60</td>\n",
              "      <td>3944208.19</td>\n",
              "    </tr>\n",
              "    <tr>\n",
              "      <th>min</th>\n",
              "      <td>10.00</td>\n",
              "      <td>1.00</td>\n",
              "      <td>1.00</td>\n",
              "      <td>1.00</td>\n",
              "      <td>13000.00</td>\n",
              "    </tr>\n",
              "    <tr>\n",
              "      <th>25%</th>\n",
              "      <td>168.00</td>\n",
              "      <td>3.00</td>\n",
              "      <td>2.00</td>\n",
              "      <td>2.00</td>\n",
              "      <td>890000.00</td>\n",
              "    </tr>\n",
              "    <tr>\n",
              "      <th>50%</th>\n",
              "      <td>276.00</td>\n",
              "      <td>3.00</td>\n",
              "      <td>4.00</td>\n",
              "      <td>4.00</td>\n",
              "      <td>1800000.00</td>\n",
              "    </tr>\n",
              "    <tr>\n",
              "      <th>75%</th>\n",
              "      <td>450.00</td>\n",
              "      <td>4.00</td>\n",
              "      <td>5.00</td>\n",
              "      <td>5.00</td>\n",
              "      <td>3500000.00</td>\n",
              "    </tr>\n",
              "    <tr>\n",
              "      <th>max</th>\n",
              "      <td>750000.00</td>\n",
              "      <td>16.00</td>\n",
              "      <td>40.00</td>\n",
              "      <td>50.00</td>\n",
              "      <td>65000000.00</td>\n",
              "    </tr>\n",
              "  </tbody>\n",
              "</table>\n",
              "</div>"
            ],
            "text/plain": [
              "       Metragem  Quartos  Banheiros   Vagas  Valor_anuncio_float\n",
              "count   9156.00  9156.00    9156.00 9156.00              9156.00\n",
              "mean     434.42     3.45       3.80    3.96           3052202.96\n",
              "std     7856.42     1.05       1.97    2.60           3944208.19\n",
              "min       10.00     1.00       1.00    1.00             13000.00\n",
              "25%      168.00     3.00       2.00    2.00            890000.00\n",
              "50%      276.00     3.00       4.00    4.00           1800000.00\n",
              "75%      450.00     4.00       5.00    5.00           3500000.00\n",
              "max   750000.00    16.00      40.00   50.00          65000000.00"
            ]
          },
          "execution_count": 31,
          "metadata": {},
          "output_type": "execute_result"
        }
      ],
      "source": [
        "pd.set_option(\"display.precision\", 2)\n",
        "pd.set_option('display.float_format', lambda x: '%.2f' % x)\n",
        "\n",
        "dados_vendas.describe()"
      ]
    },
    {
      "cell_type": "code",
      "execution_count": 32,
      "metadata": {
        "colab": {
          "base_uri": "https://localhost:8080/",
          "height": 175
        },
        "id": "LNnQfxZqqTXa",
        "outputId": "63124c7f-1d4c-407b-f61b-c94cfaee7ddb"
      },
      "outputs": [
        {
          "data": {
            "text/html": [
              "<div>\n",
              "<style scoped>\n",
              "    .dataframe tbody tr th:only-of-type {\n",
              "        vertical-align: middle;\n",
              "    }\n",
              "\n",
              "    .dataframe tbody tr th {\n",
              "        vertical-align: top;\n",
              "    }\n",
              "\n",
              "    .dataframe thead th {\n",
              "        text-align: right;\n",
              "    }\n",
              "</style>\n",
              "<table border=\"1\" class=\"dataframe\">\n",
              "  <thead>\n",
              "    <tr style=\"text-align: right;\">\n",
              "      <th></th>\n",
              "      <th>Rua</th>\n",
              "      <th>Bairro</th>\n",
              "      <th>Cidade</th>\n",
              "    </tr>\n",
              "  </thead>\n",
              "  <tbody>\n",
              "    <tr>\n",
              "      <th>count</th>\n",
              "      <td>6107</td>\n",
              "      <td>9146</td>\n",
              "      <td>9156</td>\n",
              "    </tr>\n",
              "    <tr>\n",
              "      <th>unique</th>\n",
              "      <td>3006</td>\n",
              "      <td>697</td>\n",
              "      <td>1</td>\n",
              "    </tr>\n",
              "    <tr>\n",
              "      <th>top</th>\n",
              "      <td>Rua Alberto Faria</td>\n",
              "      <td>Alto de Pinheiros</td>\n",
              "      <td>São Paulo</td>\n",
              "    </tr>\n",
              "    <tr>\n",
              "      <th>freq</th>\n",
              "      <td>24</td>\n",
              "      <td>369</td>\n",
              "      <td>9156</td>\n",
              "    </tr>\n",
              "  </tbody>\n",
              "</table>\n",
              "</div>"
            ],
            "text/plain": [
              "                      Rua             Bairro     Cidade\n",
              "count                6107               9146       9156\n",
              "unique               3006                697          1\n",
              "top     Rua Alberto Faria  Alto de Pinheiros  São Paulo\n",
              "freq                   24                369       9156"
            ]
          },
          "execution_count": 32,
          "metadata": {},
          "output_type": "execute_result"
        }
      ],
      "source": [
        "dados_vendas[[\"Rua\", \"Bairro\", \"Cidade\"]].describe()"
      ]
    },
    {
      "cell_type": "code",
      "execution_count": null,
      "metadata": {
        "id": "geyXHqX6vyVP"
      },
      "outputs": [],
      "source": []
    },
    {
      "cell_type": "code",
      "execution_count": 37,
      "metadata": {
        "colab": {
          "base_uri": "https://localhost:8080/",
          "height": 518
        },
        "id": "OWn9kBVmuIb3",
        "outputId": "46e8b3dd-f12d-4620-dd62-dd0caea7616b"
      },
      "outputs": [
        {
          "data": {
            "image/png": "[encoded data removed]",
            "text/plain": [
              "<Figure size 720x576 with 1 Axes>"
            ]
          },
          "metadata": {},
          "output_type": "display_data"
        }
      ],
      "source": [
        "import seaborn as sns\n",
        "import matplotlib.pyplot as plt\n",
        "\n",
        "sns.set()\n",
        "plt.figure(figsize=(10, 8))\n",
        "ax = sns.histplot(data = dados_vendas, x = \"Valor_anuncio_float\", kde = True)\n",
        "ax.set_title(\"Histograma Valor Imóvel\")\n",
        "plt.xlim((-50, 10000000))\n",
        "plt.show()"
      ]
    },
    {
      "cell_type": "markdown",
      "metadata": {
        "id": "H_dU4-UuqpbH"
      },
      "source": [
        "#Desafio Aula 2\n",
        "\n",
        "- Criar uma escala de valores em milhões\n",
        "- Deixar o gráfico do histograma de valores legível (alterar labels, cores, título, escala)\n",
        "- Preço do metro quadrado por bairro e plotar em um gráfico ideal\n",
        "- Explorar as bibliotecas de visualizações e colocar as suas conclusão\n",
        "- Pesquisar um visualização para analisar os quartis, mediana e outliers\n",
        "\n"
      ]
    },
    {
      "cell_type": "markdown",
      "metadata": {},
      "source": [
        "Criar uma escala de valores em milhões"
      ]
    },
    {
      "cell_type": "code",
      "execution_count": 39,
      "metadata": {},
      "outputs": [
        {
          "data": {
            "text/html": [
              "<div>\n",
              "<style scoped>\n",
              "    .dataframe tbody tr th:only-of-type {\n",
              "        vertical-align: middle;\n",
              "    }\n",
              "\n",
              "    .dataframe tbody tr th {\n",
              "        vertical-align: top;\n",
              "    }\n",
              "\n",
              "    .dataframe thead th {\n",
              "        text-align: right;\n",
              "    }\n",
              "</style>\n",
              "<table border=\"1\" class=\"dataframe\">\n",
              "  <thead>\n",
              "    <tr style=\"text-align: right;\">\n",
              "      <th></th>\n",
              "      <th>Rua</th>\n",
              "      <th>Bairro</th>\n",
              "      <th>Cidade</th>\n",
              "      <th>Metragem</th>\n",
              "      <th>Quartos</th>\n",
              "      <th>Banheiros</th>\n",
              "      <th>Vagas</th>\n",
              "      <th>Valor</th>\n",
              "      <th>Moeda</th>\n",
              "      <th>Valor_anuncio</th>\n",
              "      <th>Tipo_anuncio</th>\n",
              "    </tr>\n",
              "  </thead>\n",
              "  <tbody>\n",
              "    <tr>\n",
              "      <th>0</th>\n",
              "      <td>Avenida Itacira, 255</td>\n",
              "      <td>Planalto Paulista</td>\n",
              "      <td>São Paulo</td>\n",
              "      <td>1000</td>\n",
              "      <td>4</td>\n",
              "      <td>8</td>\n",
              "      <td>6</td>\n",
              "      <td>R$ 7.000.000</td>\n",
              "      <td>R$</td>\n",
              "      <td>7.000.000</td>\n",
              "      <td>None</td>\n",
              "    </tr>\n",
              "    <tr>\n",
              "      <th>1</th>\n",
              "      <td>Rua Aurelia Perez Alvarez, 42</td>\n",
              "      <td>Jardim dos Estados</td>\n",
              "      <td>São Paulo</td>\n",
              "      <td>496</td>\n",
              "      <td>4</td>\n",
              "      <td>4</td>\n",
              "      <td>4</td>\n",
              "      <td>R$ 3.700.000</td>\n",
              "      <td>R$</td>\n",
              "      <td>3.700.000</td>\n",
              "      <td>None</td>\n",
              "    </tr>\n",
              "    <tr>\n",
              "      <th>2</th>\n",
              "      <td>Rua Alba Valdez</td>\n",
              "      <td>Jardim Reimberg</td>\n",
              "      <td>São Paulo</td>\n",
              "      <td>125</td>\n",
              "      <td>4</td>\n",
              "      <td>3</td>\n",
              "      <td>2</td>\n",
              "      <td>R$ 380.000</td>\n",
              "      <td>R$</td>\n",
              "      <td>380.000</td>\n",
              "      <td>None</td>\n",
              "    </tr>\n",
              "    <tr>\n",
              "      <th>3</th>\n",
              "      <td>NaN</td>\n",
              "      <td>Jardim Morumbi</td>\n",
              "      <td>São Paulo</td>\n",
              "      <td>310</td>\n",
              "      <td>3</td>\n",
              "      <td>2</td>\n",
              "      <td>4</td>\n",
              "      <td>R$ 685.000</td>\n",
              "      <td>R$</td>\n",
              "      <td>685.000</td>\n",
              "      <td>None</td>\n",
              "    </tr>\n",
              "    <tr>\n",
              "      <th>4</th>\n",
              "      <td>Rua Tobias Barreto, 195</td>\n",
              "      <td>Mooca</td>\n",
              "      <td>São Paulo</td>\n",
              "      <td>100</td>\n",
              "      <td>3</td>\n",
              "      <td>2</td>\n",
              "      <td>2</td>\n",
              "      <td>R$ 540.000</td>\n",
              "      <td>R$</td>\n",
              "      <td>540.000</td>\n",
              "      <td>None</td>\n",
              "    </tr>\n",
              "  </tbody>\n",
              "</table>\n",
              "</div>"
            ],
            "text/plain": [
              "                              Rua              Bairro     Cidade  Metragem  \\\n",
              "0           Avenida Itacira, 255    Planalto Paulista  São Paulo      1000   \n",
              "1  Rua Aurelia Perez Alvarez, 42   Jardim dos Estados  São Paulo       496   \n",
              "2                 Rua Alba Valdez     Jardim Reimberg  São Paulo       125   \n",
              "3                             NaN      Jardim Morumbi  São Paulo       310   \n",
              "4        Rua Tobias Barreto, 195                Mooca  São Paulo       100   \n",
              "\n",
              "   Quartos  Banheiros  Vagas         Valor Moeda Valor_anuncio Tipo_anuncio  \n",
              "0        4          8      6  R$ 7.000.000    R$     7.000.000         None  \n",
              "1        4          4      4  R$ 3.700.000    R$     3.700.000         None  \n",
              "2        4          3      2    R$ 380.000    R$       380.000         None  \n",
              "3        3          2      4    R$ 685.000    R$       685.000         None  \n",
              "4        3          2      2    R$ 540.000    R$       540.000         None  "
            ]
          },
          "execution_count": 39,
          "metadata": {},
          "output_type": "execute_result"
        }
      ],
      "source": [
        "dados.head()"
      ]
    },
    {
      "cell_type": "code",
      "execution_count": 87,
      "metadata": {},
      "outputs": [
        {
          "data": {
            "text/plain": [
              "'2.200.000'"
            ]
          },
          "execution_count": 87,
          "metadata": {},
          "output_type": "execute_result"
        }
      ],
      "source": [
        "# # dados.Banheiros.max()\n",
        "valor_max_ban = dados.Valor_anuncio[dados.Banheiros.max()]\n",
        "valor_max_ban\n"
      ]
    },
    {
      "cell_type": "code",
      "execution_count": 95,
      "metadata": {},
      "outputs": [
        {
          "data": {
            "text/plain": [
              "40"
            ]
          },
          "execution_count": 95,
          "metadata": {},
          "output_type": "execute_result"
        }
      ],
      "source": [
        "dados.Banheiros.max()"
      ]
    },
    {
      "cell_type": "code",
      "execution_count": 103,
      "metadata": {},
      "outputs": [
        {
          "data": {
            "image/png": "[encoded data removed]",
            "text/plain": [
              "<Figure size 432x288 with 1 Axes>"
            ]
          },
          "metadata": {},
          "output_type": "display_data"
        }
      ],
      "source": [
        "dados.Banheiros.plot.hist()\n",
        "# dados.Vagas\n",
        "plt.xlabel(\"Banheiros\")\n",
        "plt.ylabel(\"Quantidade\")\n",
        "plt.xlim(dados.Banheiros.min(),dados.Banheiros.max())\n",
        "# plt.ylim(-50,1000000)\n",
        "plt.show()"
      ]
    },
    {
      "cell_type": "code",
      "execution_count": 119,
      "metadata": {},
      "outputs": [
        {
          "data": {
            "text/plain": [
              "0        7.000.000\n",
              "1        3.700.000\n",
              "2          380.000\n",
              "3          685.000\n",
              "4          540.000\n",
              "           ...    \n",
              "10003      665.000\n",
              "10004    2.300.000\n",
              "10005    1.050.000\n",
              "10006        2.200\n",
              "10007      270.000\n",
              "Name: Valor_anuncio, Length: 10008, dtype: object"
            ]
          },
          "execution_count": 119,
          "metadata": {},
          "output_type": "execute_result"
        }
      ],
      "source": [
        "dados.Valor_anuncio"
      ]
    },
    {
      "cell_type": "code",
      "execution_count": 129,
      "metadata": {},
      "outputs": [
        {
          "name": "stderr",
          "output_type": "stream",
          "text": [
            "C:\\Users\\aleav\\AppData\\Local\\Temp\\ipykernel_20516\\3754365798.py:1: FutureWarning: The default value of regex will change from True to False in a future version. In addition, single character regular expressions will *not* be treated as literal strings when regex=True.\n",
            "  valor_float = dados.Valor_anuncio.str.replace(\".\",\"\").astype(float)\n"
          ]
        },
        {
          "data": {
            "text/plain": [
              "0       7000000.00\n",
              "1       3700000.00\n",
              "2        380000.00\n",
              "3        685000.00\n",
              "4        540000.00\n",
              "           ...    \n",
              "10003    665000.00\n",
              "10004   2300000.00\n",
              "10005   1050000.00\n",
              "10006      2200.00\n",
              "10007    270000.00\n",
              "Name: Valor_anuncio, Length: 10008, dtype: float64"
            ]
          },
          "execution_count": 129,
          "metadata": {},
          "output_type": "execute_result"
        }
      ],
      "source": [
        "valor_float = dados.Valor_anuncio.str.replace(\".\",\"\").astype(float)\n",
        "valor_float"
      ]
    },
    {
      "cell_type": "code",
      "execution_count": 122,
      "metadata": {},
      "outputs": [
        {
          "data": {
            "text/html": [
              "<div>\n",
              "<style scoped>\n",
              "    .dataframe tbody tr th:only-of-type {\n",
              "        vertical-align: middle;\n",
              "    }\n",
              "\n",
              "    .dataframe tbody tr th {\n",
              "        vertical-align: top;\n",
              "    }\n",
              "\n",
              "    .dataframe thead th {\n",
              "        text-align: right;\n",
              "    }\n",
              "</style>\n",
              "<table border=\"1\" class=\"dataframe\">\n",
              "  <thead>\n",
              "    <tr style=\"text-align: right;\">\n",
              "      <th></th>\n",
              "      <th>Rua</th>\n",
              "      <th>Bairro</th>\n",
              "      <th>Cidade</th>\n",
              "      <th>Metragem</th>\n",
              "      <th>Quartos</th>\n",
              "      <th>Banheiros</th>\n",
              "      <th>Vagas</th>\n",
              "      <th>Valor</th>\n",
              "      <th>Moeda</th>\n",
              "      <th>Valor_anuncio</th>\n",
              "      <th>Tipo_anuncio</th>\n",
              "    </tr>\n",
              "  </thead>\n",
              "  <tbody>\n",
              "    <tr>\n",
              "      <th>0</th>\n",
              "      <td>Avenida Itacira, 255</td>\n",
              "      <td>Planalto Paulista</td>\n",
              "      <td>São Paulo</td>\n",
              "      <td>1000</td>\n",
              "      <td>4</td>\n",
              "      <td>8</td>\n",
              "      <td>6</td>\n",
              "      <td>R$ 7.000.000</td>\n",
              "      <td>R$</td>\n",
              "      <td>7.000.000</td>\n",
              "      <td>None</td>\n",
              "    </tr>\n",
              "    <tr>\n",
              "      <th>1</th>\n",
              "      <td>Rua Aurelia Perez Alvarez, 42</td>\n",
              "      <td>Jardim dos Estados</td>\n",
              "      <td>São Paulo</td>\n",
              "      <td>496</td>\n",
              "      <td>4</td>\n",
              "      <td>4</td>\n",
              "      <td>4</td>\n",
              "      <td>R$ 3.700.000</td>\n",
              "      <td>R$</td>\n",
              "      <td>3.700.000</td>\n",
              "      <td>None</td>\n",
              "    </tr>\n",
              "    <tr>\n",
              "      <th>2</th>\n",
              "      <td>Rua Alba Valdez</td>\n",
              "      <td>Jardim Reimberg</td>\n",
              "      <td>São Paulo</td>\n",
              "      <td>125</td>\n",
              "      <td>4</td>\n",
              "      <td>3</td>\n",
              "      <td>2</td>\n",
              "      <td>R$ 380.000</td>\n",
              "      <td>R$</td>\n",
              "      <td>380.000</td>\n",
              "      <td>None</td>\n",
              "    </tr>\n",
              "    <tr>\n",
              "      <th>3</th>\n",
              "      <td>NaN</td>\n",
              "      <td>Jardim Morumbi</td>\n",
              "      <td>São Paulo</td>\n",
              "      <td>310</td>\n",
              "      <td>3</td>\n",
              "      <td>2</td>\n",
              "      <td>4</td>\n",
              "      <td>R$ 685.000</td>\n",
              "      <td>R$</td>\n",
              "      <td>685.000</td>\n",
              "      <td>None</td>\n",
              "    </tr>\n",
              "    <tr>\n",
              "      <th>4</th>\n",
              "      <td>Rua Tobias Barreto, 195</td>\n",
              "      <td>Mooca</td>\n",
              "      <td>São Paulo</td>\n",
              "      <td>100</td>\n",
              "      <td>3</td>\n",
              "      <td>2</td>\n",
              "      <td>2</td>\n",
              "      <td>R$ 540.000</td>\n",
              "      <td>R$</td>\n",
              "      <td>540.000</td>\n",
              "      <td>None</td>\n",
              "    </tr>\n",
              "  </tbody>\n",
              "</table>\n",
              "</div>"
            ],
            "text/plain": [
              "                              Rua              Bairro     Cidade  Metragem  \\\n",
              "0           Avenida Itacira, 255    Planalto Paulista  São Paulo      1000   \n",
              "1  Rua Aurelia Perez Alvarez, 42   Jardim dos Estados  São Paulo       496   \n",
              "2                 Rua Alba Valdez     Jardim Reimberg  São Paulo       125   \n",
              "3                             NaN      Jardim Morumbi  São Paulo       310   \n",
              "4        Rua Tobias Barreto, 195                Mooca  São Paulo       100   \n",
              "\n",
              "   Quartos  Banheiros  Vagas         Valor Moeda Valor_anuncio Tipo_anuncio  \n",
              "0        4          8      6  R$ 7.000.000    R$     7.000.000         None  \n",
              "1        4          4      4  R$ 3.700.000    R$     3.700.000         None  \n",
              "2        4          3      2    R$ 380.000    R$       380.000         None  \n",
              "3        3          2      4    R$ 685.000    R$       685.000         None  \n",
              "4        3          2      2    R$ 540.000    R$       540.000         None  "
            ]
          },
          "execution_count": 122,
          "metadata": {},
          "output_type": "execute_result"
        }
      ],
      "source": [
        "dados.head()"
      ]
    },
    {
      "cell_type": "code",
      "execution_count": 135,
      "metadata": {},
      "outputs": [
        {
          "data": {
            "text/html": [
              "<div>\n",
              "<style scoped>\n",
              "    .dataframe tbody tr th:only-of-type {\n",
              "        vertical-align: middle;\n",
              "    }\n",
              "\n",
              "    .dataframe tbody tr th {\n",
              "        vertical-align: top;\n",
              "    }\n",
              "\n",
              "    .dataframe thead th {\n",
              "        text-align: right;\n",
              "    }\n",
              "</style>\n",
              "<table border=\"1\" class=\"dataframe\">\n",
              "  <thead>\n",
              "    <tr style=\"text-align: right;\">\n",
              "      <th></th>\n",
              "      <th>Rua</th>\n",
              "      <th>Bairro</th>\n",
              "      <th>Cidade</th>\n",
              "      <th>Metragem</th>\n",
              "      <th>Quartos</th>\n",
              "      <th>Banheiros</th>\n",
              "      <th>Vagas</th>\n",
              "      <th>Valor</th>\n",
              "      <th>Moeda</th>\n",
              "      <th>Valor_anuncio</th>\n",
              "      <th>Tipo_anuncio</th>\n",
              "      <th>Valor_anuncio_float</th>\n",
              "    </tr>\n",
              "  </thead>\n",
              "  <tbody>\n",
              "    <tr>\n",
              "      <th>0</th>\n",
              "      <td>Avenida Itacira, 255</td>\n",
              "      <td>Planalto Paulista</td>\n",
              "      <td>São Paulo</td>\n",
              "      <td>1000</td>\n",
              "      <td>4</td>\n",
              "      <td>8</td>\n",
              "      <td>6</td>\n",
              "      <td>R$ 7.000.000</td>\n",
              "      <td>R$</td>\n",
              "      <td>7.000.000</td>\n",
              "      <td>None</td>\n",
              "      <td>7000000.00</td>\n",
              "    </tr>\n",
              "    <tr>\n",
              "      <th>1</th>\n",
              "      <td>Rua Aurelia Perez Alvarez, 42</td>\n",
              "      <td>Jardim dos Estados</td>\n",
              "      <td>São Paulo</td>\n",
              "      <td>496</td>\n",
              "      <td>4</td>\n",
              "      <td>4</td>\n",
              "      <td>4</td>\n",
              "      <td>R$ 3.700.000</td>\n",
              "      <td>R$</td>\n",
              "      <td>3.700.000</td>\n",
              "      <td>None</td>\n",
              "      <td>3700000.00</td>\n",
              "    </tr>\n",
              "    <tr>\n",
              "      <th>2</th>\n",
              "      <td>Rua Alba Valdez</td>\n",
              "      <td>Jardim Reimberg</td>\n",
              "      <td>São Paulo</td>\n",
              "      <td>125</td>\n",
              "      <td>4</td>\n",
              "      <td>3</td>\n",
              "      <td>2</td>\n",
              "      <td>R$ 380.000</td>\n",
              "      <td>R$</td>\n",
              "      <td>380.000</td>\n",
              "      <td>None</td>\n",
              "      <td>380000.00</td>\n",
              "    </tr>\n",
              "    <tr>\n",
              "      <th>3</th>\n",
              "      <td>NaN</td>\n",
              "      <td>Jardim Morumbi</td>\n",
              "      <td>São Paulo</td>\n",
              "      <td>310</td>\n",
              "      <td>3</td>\n",
              "      <td>2</td>\n",
              "      <td>4</td>\n",
              "      <td>R$ 685.000</td>\n",
              "      <td>R$</td>\n",
              "      <td>685.000</td>\n",
              "      <td>None</td>\n",
              "      <td>685000.00</td>\n",
              "    </tr>\n",
              "    <tr>\n",
              "      <th>4</th>\n",
              "      <td>Rua Tobias Barreto, 195</td>\n",
              "      <td>Mooca</td>\n",
              "      <td>São Paulo</td>\n",
              "      <td>100</td>\n",
              "      <td>3</td>\n",
              "      <td>2</td>\n",
              "      <td>2</td>\n",
              "      <td>R$ 540.000</td>\n",
              "      <td>R$</td>\n",
              "      <td>540.000</td>\n",
              "      <td>None</td>\n",
              "      <td>540000.00</td>\n",
              "    </tr>\n",
              "  </tbody>\n",
              "</table>\n",
              "</div>"
            ],
            "text/plain": [
              "                              Rua              Bairro     Cidade  Metragem  \\\n",
              "0           Avenida Itacira, 255    Planalto Paulista  São Paulo      1000   \n",
              "1  Rua Aurelia Perez Alvarez, 42   Jardim dos Estados  São Paulo       496   \n",
              "2                 Rua Alba Valdez     Jardim Reimberg  São Paulo       125   \n",
              "3                             NaN      Jardim Morumbi  São Paulo       310   \n",
              "4        Rua Tobias Barreto, 195                Mooca  São Paulo       100   \n",
              "\n",
              "   Quartos  Banheiros  Vagas         Valor Moeda Valor_anuncio Tipo_anuncio  \\\n",
              "0        4          8      6  R$ 7.000.000    R$     7.000.000         None   \n",
              "1        4          4      4  R$ 3.700.000    R$     3.700.000         None   \n",
              "2        4          3      2    R$ 380.000    R$       380.000         None   \n",
              "3        3          2      4    R$ 685.000    R$       685.000         None   \n",
              "4        3          2      2    R$ 540.000    R$       540.000         None   \n",
              "\n",
              "   Valor_anuncio_float  \n",
              "0           7000000.00  \n",
              "1           3700000.00  \n",
              "2            380000.00  \n",
              "3            685000.00  \n",
              "4            540000.00  "
            ]
          },
          "execution_count": 135,
          "metadata": {},
          "output_type": "execute_result"
        }
      ],
      "source": [
        "dados[\"Valor_anuncio_float\"] =valor_float\n",
        "dados.head()"
      ]
    },
    {
      "cell_type": "code",
      "execution_count": 184,
      "metadata": {},
      "outputs": [
        {
          "data": {
            "text/plain": [
              "(100.0, 10000.0)"
            ]
          },
          "execution_count": 184,
          "metadata": {},
          "output_type": "execute_result"
        },
        {
          "data": {
            "image/png": "[encoded data removed]",
            "text/plain": [
              "<Figure size 432x288 with 1 Axes>"
            ]
          },
          "metadata": {},
          "output_type": "display_data"
        }
      ],
      "source": [
        "dados.plot('Bairro','Valor_anuncio_float')\n",
        "# plt.xlabel(\"Valor\")\n",
        "# plt.ylabel(\"Bairros\")\n",
        "# plt.xlim(dados.Banheiros.min(),dados.Banheiros.max())\n",
        "plt.ylim(100,10000)\n",
        "# plt.show()"
      ]
    },
    {
      "cell_type": "code",
      "execution_count": null,
      "metadata": {},
      "outputs": [],
      "source": [
        "plt.plot([dados])"
      ]
    },
    {
      "cell_type": "code",
      "execution_count": null,
      "metadata": {},
      "outputs": [],
      "source": []
    }
  ],
  "metadata": {
    "colab": {
      "include_colab_link": true,
      "name": "Imersao_dados_4_aula02.ipynb",
      "provenance": []
    },
    "kernelspec": {
      "display_name": "Python 3.9.13 64-bit (windows store)",
      "language": "python",
      "name": "python3"
    },
    "language_info": {
      "codemirror_mode": {
        "name": "ipython",
        "version": 3
      },
      "file_extension": ".py",
      "mimetype": "text/x-python",
      "name": "python",
      "nbconvert_exporter": "python",
      "pygments_lexer": "ipython3",
      "version": "3.9.13"
    },
    "vscode": {
      "interpreter": {
        "hash": "8b781eec678c0394f00edbc2ac389bcb1b79686804edcb747cf3bf35bcd5671f"
      }
    }
  },
  "nbformat": 4,
  "nbformat_minor": 0
}
